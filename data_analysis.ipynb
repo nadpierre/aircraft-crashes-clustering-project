{
 "cells": [
  {
   "cell_type": "markdown",
   "metadata": {},
   "source": [
    "# Aircraft Crashes Data Analysis and Visualization"
   ]
  },
  {
   "cell_type": "markdown",
   "metadata": {},
   "source": [
    "## Overview"
   ]
  },
  {
   "cell_type": "markdown",
   "metadata": {},
   "source": [
    "This notebook analyses the data and provides insights about the aircraft crashes since 1918.\n"
   ]
  },
  {
   "cell_type": "markdown",
   "metadata": {
    "vscode": {
     "languageId": "plaintext"
    }
   },
   "source": [
    "### About Dataset"
   ]
  },
  {
   "cell_type": "markdown",
   "metadata": {
    "vscode": {
     "languageId": "plaintext"
    }
   },
   "source": [
    "`date` date of the accident          \n",
    "`aircraft_type` aircraft make and model      \n",
    "`operator` operator of the aircraft    \n",
    "`flight_phase` phase of the flight when the accident occured\n",
    "`flight_type` type of flight (ex: military)   \n",
    "`survivors` indicates if there was survivors or not     \n",
    "`site` type of location where the accident happened (ex: mountains)  \n",
    "`location` location of the accident       \n",
    "`country` country where the crash happened      \n",
    "`region` region of the world where the crash happened   \n",
    "`crew_on_board` number of crew members on board at the time of the accident      \n",
    "`crew_fatalities` number of crew members who died in the crash        \n",
    "`pax_on_board` number of passengers on board at the time of the accident         \n",
    "`pax_fatalities` number of passengers who died in the crash         \n",
    "`other_fatalities` other victims of the accident outside of the aircraft       \n",
    "`total_fatalities` total number of deaths"
   ]
  },
  {
   "cell_type": "markdown",
   "metadata": {},
   "source": [
    "---"
   ]
  },
  {
   "cell_type": "markdown",
   "metadata": {},
   "source": [
    "## Exploratory Data Analysis"
   ]
  },
  {
   "cell_type": "markdown",
   "metadata": {},
   "source": [
    "1. Number of accidents over the years\n",
    "2. Average number of accidents and fatalities per year \n",
    "3. Number of accidents by site\n",
    "4. Top 3 aircrafts with the most accidents\n",
    "5. Top 5 commercial airline companies with the most accidents\n",
    "6. Number of fatalities over the years\n",
    "7. Top 5 deadliest accidents involving a single aircraft\n",
    "8. Top 5 deadliest accidents involving more than one aircraft\n",
    "9. Proportion of accidents with survivors\n",
    "10. Correlation between numeric variables"
   ]
  },
  {
   "cell_type": "code",
   "execution_count": 1,
   "metadata": {},
   "outputs": [],
   "source": [
    "from datetime import datetime\n",
    "from IPython.core.display import Image\n",
    "import matplotlib.pyplot as plt\n",
    "import pandas as pd\n",
    "import pickle\n",
    "import seaborn as sns"
   ]
  },
  {
   "cell_type": "code",
   "execution_count": 2,
   "metadata": {},
   "outputs": [],
   "source": [
    "# Load data\n",
    "with open('data/crashes_cleaned_data.pkl', 'rb') as handle:\n",
    "\tdf = pickle.load(handle)"
   ]
  },
  {
   "cell_type": "code",
   "execution_count": 3,
   "metadata": {},
   "outputs": [
    {
     "data": {
      "text/html": [
       "<div>\n",
       "<style scoped>\n",
       "    .dataframe tbody tr th:only-of-type {\n",
       "        vertical-align: middle;\n",
       "    }\n",
       "\n",
       "    .dataframe tbody tr th {\n",
       "        vertical-align: top;\n",
       "    }\n",
       "\n",
       "    .dataframe thead th {\n",
       "        text-align: right;\n",
       "    }\n",
       "</style>\n",
       "<table border=\"1\" class=\"dataframe\">\n",
       "  <thead>\n",
       "    <tr style=\"text-align: right;\">\n",
       "      <th></th>\n",
       "      <th>date</th>\n",
       "      <th>aircraft_type</th>\n",
       "      <th>operator</th>\n",
       "      <th>flight_phase</th>\n",
       "      <th>flight_type</th>\n",
       "      <th>survivors</th>\n",
       "      <th>site</th>\n",
       "      <th>location</th>\n",
       "      <th>country</th>\n",
       "      <th>region</th>\n",
       "      <th>crew_on_board</th>\n",
       "      <th>crew_fatalities</th>\n",
       "      <th>pax_on_board</th>\n",
       "      <th>pax_fatalities</th>\n",
       "      <th>other_fatalities</th>\n",
       "      <th>total_fatalities</th>\n",
       "    </tr>\n",
       "  </thead>\n",
       "  <tbody>\n",
       "    <tr>\n",
       "      <th>27276</th>\n",
       "      <td>1987-10-19 00:00:00</td>\n",
       "      <td>Antonov AN-12</td>\n",
       "      <td>MAP - Ministerstvo Aviatsionnoi Promyshlennost...</td>\n",
       "      <td>Takeoff (climb)</td>\n",
       "      <td>Cargo</td>\n",
       "      <td>False</td>\n",
       "      <td>Airport (less than 10 km from airport)</td>\n",
       "      <td>Komsomolsk-on-Amur</td>\n",
       "      <td>Russia</td>\n",
       "      <td>Asia</td>\n",
       "      <td>5</td>\n",
       "      <td>5</td>\n",
       "      <td>4</td>\n",
       "      <td>4</td>\n",
       "      <td>0</td>\n",
       "      <td>9</td>\n",
       "    </tr>\n",
       "    <tr>\n",
       "      <th>8222</th>\n",
       "      <td>1941-09-20 00:00:00</td>\n",
       "      <td>Bristol 142 Blenheim</td>\n",
       "      <td>Royal Air Force - RAF</td>\n",
       "      <td>Flight</td>\n",
       "      <td>Training</td>\n",
       "      <td>False</td>\n",
       "      <td>Lake, Sea, Ocean, River</td>\n",
       "      <td>Lough Neagh</td>\n",
       "      <td>United Kingdom</td>\n",
       "      <td>Europe</td>\n",
       "      <td>3</td>\n",
       "      <td>3</td>\n",
       "      <td>0</td>\n",
       "      <td>0</td>\n",
       "      <td>0</td>\n",
       "      <td>3</td>\n",
       "    </tr>\n",
       "    <tr>\n",
       "      <th>30295</th>\n",
       "      <td>1998-07-24 22:08:00</td>\n",
       "      <td>Cessna 500 Citation</td>\n",
       "      <td>Skyward Aviation - Canada</td>\n",
       "      <td>Takeoff (climb)</td>\n",
       "      <td>Cargo</td>\n",
       "      <td>True</td>\n",
       "      <td>Airport (less than 10 km from airport)</td>\n",
       "      <td>Rawlins</td>\n",
       "      <td>United States of America</td>\n",
       "      <td>North America</td>\n",
       "      <td>2</td>\n",
       "      <td>0</td>\n",
       "      <td>0</td>\n",
       "      <td>0</td>\n",
       "      <td>0</td>\n",
       "      <td>0</td>\n",
       "    </tr>\n",
       "    <tr>\n",
       "      <th>33885</th>\n",
       "      <td>2016-06-03 10:00:00</td>\n",
       "      <td>Cessna 208B Grand Caravan</td>\n",
       "      <td>Lady Lori (Kenya) Ltd</td>\n",
       "      <td>Takeoff (climb)</td>\n",
       "      <td>Charter/Taxi (Non Scheduled Revenue Flight)</td>\n",
       "      <td>True</td>\n",
       "      <td>Airport (less than 10 km from airport)</td>\n",
       "      <td>Akobo</td>\n",
       "      <td>South Sudan</td>\n",
       "      <td>Africa</td>\n",
       "      <td>1</td>\n",
       "      <td>0</td>\n",
       "      <td>4</td>\n",
       "      <td>0</td>\n",
       "      <td>0</td>\n",
       "      <td>0</td>\n",
       "    </tr>\n",
       "    <tr>\n",
       "      <th>1487</th>\n",
       "      <td>1930-07-09 16:32:00</td>\n",
       "      <td>Farman F.63bis Goliath</td>\n",
       "      <td>Société Générale des Transports Aériens - SGTA</td>\n",
       "      <td>Takeoff (climb)</td>\n",
       "      <td>Cargo</td>\n",
       "      <td>True</td>\n",
       "      <td>Airport (less than 10 km from airport)</td>\n",
       "      <td>Amsterdam-Schiphol</td>\n",
       "      <td>Netherlands</td>\n",
       "      <td>Europe</td>\n",
       "      <td>3</td>\n",
       "      <td>1</td>\n",
       "      <td>0</td>\n",
       "      <td>0</td>\n",
       "      <td>0</td>\n",
       "      <td>1</td>\n",
       "    </tr>\n",
       "  </tbody>\n",
       "</table>\n",
       "</div>"
      ],
      "text/plain": [
       "                     date              aircraft_type  \\\n",
       "27276 1987-10-19 00:00:00              Antonov AN-12   \n",
       "8222  1941-09-20 00:00:00       Bristol 142 Blenheim   \n",
       "30295 1998-07-24 22:08:00        Cessna 500 Citation   \n",
       "33885 2016-06-03 10:00:00  Cessna 208B Grand Caravan   \n",
       "1487  1930-07-09 16:32:00     Farman F.63bis Goliath   \n",
       "\n",
       "                                                operator     flight_phase  \\\n",
       "27276  MAP - Ministerstvo Aviatsionnoi Promyshlennost...  Takeoff (climb)   \n",
       "8222                               Royal Air Force - RAF           Flight   \n",
       "30295                          Skyward Aviation - Canada  Takeoff (climb)   \n",
       "33885                              Lady Lori (Kenya) Ltd  Takeoff (climb)   \n",
       "1487      Société Générale des Transports Aériens - SGTA  Takeoff (climb)   \n",
       "\n",
       "                                       flight_type  survivors  \\\n",
       "27276                                        Cargo      False   \n",
       "8222                                      Training      False   \n",
       "30295                                        Cargo       True   \n",
       "33885  Charter/Taxi (Non Scheduled Revenue Flight)       True   \n",
       "1487                                         Cargo       True   \n",
       "\n",
       "                                         site            location  \\\n",
       "27276  Airport (less than 10 km from airport)  Komsomolsk-on-Amur   \n",
       "8222                  Lake, Sea, Ocean, River         Lough Neagh   \n",
       "30295  Airport (less than 10 km from airport)             Rawlins   \n",
       "33885  Airport (less than 10 km from airport)               Akobo   \n",
       "1487   Airport (less than 10 km from airport)  Amsterdam-Schiphol   \n",
       "\n",
       "                        country         region  crew_on_board  \\\n",
       "27276                    Russia           Asia              5   \n",
       "8222             United Kingdom         Europe              3   \n",
       "30295  United States of America  North America              2   \n",
       "33885               South Sudan         Africa              1   \n",
       "1487                Netherlands         Europe              3   \n",
       "\n",
       "       crew_fatalities  pax_on_board  pax_fatalities  other_fatalities  \\\n",
       "27276                5             4               4                 0   \n",
       "8222                 3             0               0                 0   \n",
       "30295                0             0               0                 0   \n",
       "33885                0             4               0                 0   \n",
       "1487                 1             0               0                 0   \n",
       "\n",
       "       total_fatalities  \n",
       "27276                 9  \n",
       "8222                  3  \n",
       "30295                 0  \n",
       "33885                 0  \n",
       "1487                  1  "
      ]
     },
     "execution_count": 3,
     "metadata": {},
     "output_type": "execute_result"
    }
   ],
   "source": [
    "df.sample(5)"
   ]
  },
  {
   "cell_type": "markdown",
   "metadata": {},
   "source": [
    "### Number of accidents over the years"
   ]
  },
  {
   "cell_type": "code",
   "execution_count": 6,
   "metadata": {},
   "outputs": [
    {
     "data": {
      "text/plain": [
       "date\n",
       "1941    2850\n",
       "1942    2733\n",
       "1940    2088\n",
       "1944     914\n",
       "1943     814\n",
       "dtype: int64"
      ]
     },
     "execution_count": 6,
     "metadata": {},
     "output_type": "execute_result"
    }
   ],
   "source": [
    "# Get the years with the most accidents\n",
    "crashes_per_year = df.groupby(df['date'].dt.year).size()\n",
    "crashes_per_year.nlargest(n=5)"
   ]
  },
  {
   "cell_type": "code",
   "execution_count": null,
   "metadata": {},
   "outputs": [
    {
     "data": {
      "text/plain": [
       "flight_type\n",
       "Bombing                             31\n",
       "Military                            18\n",
       "Survey / Patrol / Reconnaissance     8\n",
       "Training                             2\n",
       "Skydiving / Paratroopers             1\n",
       "Name: count, dtype: int64"
      ]
     },
     "execution_count": 10,
     "metadata": {},
     "output_type": "execute_result"
    }
   ],
   "source": [
    "# Get flight types with the most accidents in 1941\n",
    "most_accidents = df[df['date'].dt.year == crashes_per_year.idxmax()]\n",
    "most_accidents['flight_type'].value_counts().head()"
   ]
  },
  {
   "cell_type": "code",
   "execution_count": 11,
   "metadata": {},
   "outputs": [
    {
     "data": {
      "text/plain": [
       "operator\n",
       "German Air Force - Deutsche Luftwaffe                          39\n",
       "Royal Air Force - RAF                                          14\n",
       "Royal Netherlands Air Force - Luchtvaartbrigade (1913-1953)     5\n",
       "French Air Force - Armée de l'Air                               2\n",
       "Name: count, dtype: int64"
      ]
     },
     "execution_count": 11,
     "metadata": {},
     "output_type": "execute_result"
    }
   ],
   "source": [
    "# Get operators with the most accidents in May 10th 1940\n",
    "most_accidents['operator'].value_counts()"
   ]
  },
  {
   "cell_type": "code",
   "execution_count": 12,
   "metadata": {},
   "outputs": [
    {
     "data": {
      "image/png": "[encoded data removed]",
      "text/plain": [
       "<Figure size 640x480 with 1 Axes>"
      ]
     },
     "metadata": {},
     "output_type": "display_data"
    }
   ],
   "source": [
    "# Visualization of crashes over the years\n",
    "ax = sns.lineplot(crashes_per_year)\n",
    "ax.set_title('Number of aircraft crashes over the years since 1918')\n",
    "ax.set_xlabel('Year')\n",
    "ax.set_ylabel('Frequency');"
   ]
  },
  {
   "cell_type": "markdown",
   "metadata": {},
   "source": [
    "The number of crashes remained relatively constant, except in the early 1940s. The majority of the flight types were Bombing and Military. Also, the operators with the most accidents were air forces, which makes sense because it was during the World War II (1939-1945). In order to not skew the results, the rest of the analysis will be made for the accidents after that period."
   ]
  },
  {
   "cell_type": "code",
   "execution_count": null,
   "metadata": {},
   "outputs": [],
   "source": [
    "# Filter and export data\n",
    "df = df[df['date'].dt.year > 1945]\n",
    "\n",
    "with open('data/crashes_cleaned_data2.pkl', 'wb') as handle:\n",
    "  pickle.dump(df, handle, protocol=pickle.HIGHEST_PROTOCOL)\n",
    "\n",
    "df.to_csv('data/crashes_cleaned_data2.csv')"
   ]
  },
  {
   "cell_type": "code",
   "execution_count": null,
   "metadata": {},
   "outputs": [],
   "source": [
    "# Plot accidents over time after World War II\n",
    "crashes_per_year = df.groupby(df['date'].dt.year).size()\n",
    "ax = sns.lineplot(crashes_per_year)\n",
    "ax.set_title('Number of aircraft crashes over the years after World War II')\n",
    "ax.set_xlabel('Year')\n",
    "ax.set_ylabel('Frequency');"
   ]
  },
  {
   "cell_type": "markdown",
   "metadata": {},
   "source": [
    "### Average number of accidents and fatalities per year "
   ]
  },
  {
   "cell_type": "code",
   "execution_count": null,
   "metadata": {},
   "outputs": [],
   "source": [
    "this_year = datetime.today().year\n",
    "earliest_year = df['date'].dt.year.min()\n",
    "total_years = this_year - earliest_year"
   ]
  },
  {
   "cell_type": "code",
   "execution_count": null,
   "metadata": {},
   "outputs": [],
   "source": [
    "print(f'Average number of crashes per year: {len(df) / total_years:.2f}')\n",
    "print(f'Average number of fatalities per year: {df['total_fatalities'].sum() / total_years:.2f}')"
   ]
  },
  {
   "cell_type": "markdown",
   "metadata": {},
   "source": [
    "### Number of accidents by site"
   ]
  },
  {
   "cell_type": "code",
   "execution_count": 16,
   "metadata": {},
   "outputs": [
    {
     "data": {
      "image/png": "[encoded data removed]",
      "text/plain": [
       "<Figure size 640x480 with 1 Axes>"
      ]
     },
     "metadata": {},
     "output_type": "display_data"
    }
   ],
   "source": [
    "# Visualization\n",
    "ax = sns.countplot(data=df, x='site', hue='site')\n",
    "ax.tick_params(axis='x', rotation=90)\n",
    "ax.set_title('Number of aircraft crashes by site')\n",
    "ax.set_xlabel('Site')\n",
    "ax.set_ylabel('Frequency');"
   ]
  },
  {
   "cell_type": "code",
   "execution_count": null,
   "metadata": {},
   "outputs": [],
   "source": [
    "# Get flight phases of the accidents happening close to an airport\n",
    "airport = df[df['site'].str.contains('Airport')]\n",
    "airport['flight_phase'].value_counts()"
   ]
  },
  {
   "cell_type": "code",
   "execution_count": null,
   "metadata": {},
   "outputs": [],
   "source": [
    "# Visualization\n",
    "ax = sns.countplot(data=airport, x='flight_phase', hue='flight_phase')\n",
    "ax.tick_params(axis='x', rotation=90)\n",
    "ax.set_title('Number of aircraft crashes by flight phase')\n",
    "ax.set_xlabel('Flight Phase')\n",
    "ax.set_ylabel('Frequency');"
   ]
  },
  {
   "cell_type": "markdown",
   "metadata": {},
   "source": [
    "It shows that most accidents happen during the takeoff and landing."
   ]
  },
  {
   "cell_type": "markdown",
   "metadata": {},
   "source": [
    "### Top 3 aircrafts with the most accidents"
   ]
  },
  {
   "cell_type": "markdown",
   "metadata": {},
   "source": [
    "To avoid the results being skewed by the crashes of military airplanes that happened in World War II, the accidents since 1946 will be analyzed."
   ]
  },
  {
   "cell_type": "code",
   "execution_count": null,
   "metadata": {},
   "outputs": [
    {
     "data": {
      "text/plain": [
       "aircraft_type\n",
       "Douglas C-47 Skytrain (DC-3)    2066\n",
       "Bristol 142 Blenheim            1369\n",
       "PZL-Mielec AN-2                  770\n",
       "Name: count, dtype: int64"
      ]
     },
     "execution_count": 17,
     "metadata": {},
     "output_type": "execute_result"
    }
   ],
   "source": [
    "df[df['date'].dt.year > 1945]['aircraft_type'].value_counts().head(3)"
   ]
  },
  {
   "cell_type": "code",
   "execution_count": null,
   "metadata": {},
   "outputs": [
    {
     "data": {
      "text/html": [
       "<img src=\"https://lyonairmuseum.org/wp-content/uploads/2020/08/IMG2_2146.jpg\" width=\"400\" class=\"unconfined\" alt=\"Douglas C-47 Skytrain\"/>"
      ],
      "text/plain": [
       "<IPython.core.display.Image object>"
      ]
     },
     "metadata": {},
     "output_type": "display_data"
    },
    {
     "data": {
      "text/html": [
       "<img src=\"https://www.baaa-acro.com/sites/default/files/crash/images/R3600.jpg\" width=\"400\" class=\"unconfined\" alt=\"Bristol 142 Blenheim\"/>"
      ],
      "text/plain": [
       "<IPython.core.display.Image object>"
      ]
     },
     "metadata": {},
     "output_type": "display_data"
    },
    {
     "data": {
      "text/html": [
       "<img src=\"https://skybrary.aero/sites/default/files/AN2.jpg\" width=\"400\" class=\"unconfined\" alt=\"PZL-Mielec AN-2\"/>"
      ],
      "text/plain": [
       "<IPython.core.display.Image object>"
      ]
     },
     "metadata": {},
     "output_type": "display_data"
    }
   ],
   "source": [
    "# Display planes\n",
    "display(Image(url='https://lyonairmuseum.org/wp-content/uploads/2020/08/IMG2_2146.jpg', width=400, unconfined=True, alt='Douglas C-47 Skytrain'))\n",
    "display(Image(url='https://www.baaa-acro.com/sites/default/files/crash/images/R3600.jpg', width=400, unconfined=True, alt='Bristol 142 Blenheim'))\n",
    "display(Image(url='https://skybrary.aero/sites/default/files/AN2.jpg', width=400, unconfined=True, alt='PZL-Mielec AN-2'))"
   ]
  },
  {
   "cell_type": "markdown",
   "metadata": {},
   "source": [
    "The top 2 are military aircrafts and the third one is an utilitary aircraft."
   ]
  },
  {
   "cell_type": "markdown",
   "metadata": {},
   "source": [
    "### Top 5 commercial airline companies with the most accidents"
   ]
  },
  {
   "cell_type": "code",
   "execution_count": null,
   "metadata": {},
   "outputs": [
    {
     "data": {
      "text/plain": [
       "operator\n",
       "Aeroflot - Russian International Airlines      795\n",
       "Air France                                      81\n",
       "Deutsche Lufthansa                              71\n",
       "British Overseas Airways Corporation - BOAC     53\n",
       "American Airlines                               50\n",
       "Name: count, dtype: int64"
      ]
     },
     "execution_count": 19,
     "metadata": {},
     "output_type": "execute_result"
    }
   ],
   "source": [
    "df[df['flight_type'].str.contains('Revenue Flight')]['operator'].value_counts().head()"
   ]
  },
  {
   "cell_type": "markdown",
   "metadata": {},
   "source": [
    "There's a big diffrence with the number of accidents from Aeroflot compared to the others, which gives the perception of the airline company not being safe or reliable."
   ]
  },
  {
   "cell_type": "markdown",
   "metadata": {},
   "source": [
    "###  Number of fatalities over the years"
   ]
  },
  {
   "cell_type": "code",
   "execution_count": null,
   "metadata": {},
   "outputs": [],
   "source": [
    "# Get years with the most fatalities since 1918\n",
    "deaths_per_year = df.groupby(df['date'].dt.year)['total_fatalities'].sum()\n",
    "deaths_per_year.nlargest(n=5)"
   ]
  },
  {
   "cell_type": "code",
   "execution_count": null,
   "metadata": {},
   "outputs": [
    {
     "data": {
      "text/plain": [
       "date\n",
       "1942    8969\n",
       "1941    7700\n",
       "1940    4807\n",
       "1945    4687\n",
       "1944    4604\n",
       "Name: total_fatalities, dtype: int64"
      ]
     },
     "execution_count": 21,
     "metadata": {},
     "output_type": "execute_result"
    }
   ],
   "source": [
    "# Get years with the most fatalities after World War II\n",
    "deaths_per_year2 = after_wwii.groupby(after_wwii['date'].dt.year)['total_fatalities'].sum()\n",
    "deaths_per_year2.nlargest(n=5)"
   ]
  },
  {
   "cell_type": "code",
   "execution_count": null,
   "metadata": {},
   "outputs": [
    {
     "data": {
      "image/png": "[encoded data removed]",
      "text/plain": [
       "<Figure size 640x480 with 1 Axes>"
      ]
     },
     "metadata": {},
     "output_type": "display_data"
    }
   ],
   "source": [
    "fig, (ax1, ax2) = plt.subplots(1, 2, figsize=(15, 8))\n",
    "\n",
    "ax1 = sns.lineplot(deaths_per_year)\n",
    "ax1.set_title('Number of fatalities over the years since 1918')\n",
    "ax1.set_xlabel('Year')\n",
    "ax1.set_ylabel('Total fatalities');\n",
    "\n",
    "ax2 = sns.lineplot(deaths_per_year2)\n",
    "ax2.set_title('Number of fatalities over the after World War II')\n",
    "ax2.set_xlabel('Year')\n",
    "ax2.set_ylabel('Total fatalities');"
   ]
  },
  {
   "cell_type": "markdown",
   "metadata": {},
   "source": [
    "Again, the years with the most fatalities were during the World War II. The number of deaths increased from the 1950s to the 1970s and there is an downward trend since the 1970s."
   ]
  },
  {
   "cell_type": "markdown",
   "metadata": {},
   "source": [
    "### Top 5 deadliest accidents involving a single aircraft"
   ]
  },
  {
   "cell_type": "code",
   "execution_count": 23,
   "metadata": {},
   "outputs": [
    {
     "data": {
      "text/html": [
       "<div>\n",
       "<style scoped>\n",
       "    .dataframe tbody tr th:only-of-type {\n",
       "        vertical-align: middle;\n",
       "    }\n",
       "\n",
       "    .dataframe tbody tr th {\n",
       "        vertical-align: top;\n",
       "    }\n",
       "\n",
       "    .dataframe thead th {\n",
       "        text-align: right;\n",
       "    }\n",
       "</style>\n",
       "<table border=\"1\" class=\"dataframe\">\n",
       "  <thead>\n",
       "    <tr style=\"text-align: right;\">\n",
       "      <th></th>\n",
       "      <th>date</th>\n",
       "      <th>aircraft_type</th>\n",
       "      <th>operator</th>\n",
       "      <th>location</th>\n",
       "      <th>country</th>\n",
       "      <th>site</th>\n",
       "      <th>total_fatalities</th>\n",
       "    </tr>\n",
       "  </thead>\n",
       "  <tbody>\n",
       "    <tr>\n",
       "      <th>26629</th>\n",
       "      <td>1985-08-12 18:56:00</td>\n",
       "      <td>Boeing 747-200</td>\n",
       "      <td>Japan Airlines</td>\n",
       "      <td>Mt Osutaka</td>\n",
       "      <td>Japan</td>\n",
       "      <td>Mountains</td>\n",
       "      <td>520</td>\n",
       "    </tr>\n",
       "    <tr>\n",
       "      <th>22964</th>\n",
       "      <td>1974-03-03 11:41:00</td>\n",
       "      <td>Douglas DC-10</td>\n",
       "      <td>Turkish Airlines - THY Türk Hava Yollari</td>\n",
       "      <td>Ermenonville</td>\n",
       "      <td>France</td>\n",
       "      <td>Plain, Valley</td>\n",
       "      <td>346</td>\n",
       "    </tr>\n",
       "    <tr>\n",
       "      <th>23890</th>\n",
       "      <td>1977-03-27 17:06:00</td>\n",
       "      <td>Boeing 747-100</td>\n",
       "      <td>Pan American World Airways - PAA</td>\n",
       "      <td>Tenerife-Norte-Los Rodeos</td>\n",
       "      <td>Spain</td>\n",
       "      <td>Airport (less than 10 km from airport)</td>\n",
       "      <td>335</td>\n",
       "    </tr>\n",
       "    <tr>\n",
       "      <th>26586</th>\n",
       "      <td>1985-06-23 07:15:00</td>\n",
       "      <td>Boeing 747-200</td>\n",
       "      <td>Air India</td>\n",
       "      <td>Atlantic Ocean</td>\n",
       "      <td>World</td>\n",
       "      <td>Lake, Sea, Ocean, River</td>\n",
       "      <td>329</td>\n",
       "    </tr>\n",
       "    <tr>\n",
       "      <th>29877</th>\n",
       "      <td>1996-11-12 18:40:00</td>\n",
       "      <td>Boeing 747-100</td>\n",
       "      <td>Saudi Arabian Airlines - SAUDIA</td>\n",
       "      <td>Charkhi Dadri</td>\n",
       "      <td>India</td>\n",
       "      <td>Plain, Valley</td>\n",
       "      <td>312</td>\n",
       "    </tr>\n",
       "  </tbody>\n",
       "</table>\n",
       "</div>"
      ],
      "text/plain": [
       "                     date   aircraft_type  \\\n",
       "26629 1985-08-12 18:56:00  Boeing 747-200   \n",
       "22964 1974-03-03 11:41:00   Douglas DC-10   \n",
       "23890 1977-03-27 17:06:00  Boeing 747-100   \n",
       "26586 1985-06-23 07:15:00  Boeing 747-200   \n",
       "29877 1996-11-12 18:40:00  Boeing 747-100   \n",
       "\n",
       "                                       operator                   location  \\\n",
       "26629                            Japan Airlines                 Mt Osutaka   \n",
       "22964  Turkish Airlines - THY Türk Hava Yollari               Ermenonville   \n",
       "23890          Pan American World Airways - PAA  Tenerife-Norte-Los Rodeos   \n",
       "26586                                 Air India             Atlantic Ocean   \n",
       "29877           Saudi Arabian Airlines - SAUDIA              Charkhi Dadri   \n",
       "\n",
       "      country                                    site  total_fatalities  \n",
       "26629   Japan                               Mountains               520  \n",
       "22964  France                           Plain, Valley               346  \n",
       "23890   Spain  Airport (less than 10 km from airport)               335  \n",
       "26586   World                 Lake, Sea, Ocean, River               329  \n",
       "29877   India                           Plain, Valley               312  "
      ]
     },
     "execution_count": 23,
     "metadata": {},
     "output_type": "execute_result"
    }
   ],
   "source": [
    "df.nlargest(n=5, columns='total_fatalities') \\\n",
    "\t[['date', 'aircraft_type', 'operator', 'location', 'country', 'site', 'total_fatalities']]"
   ]
  },
  {
   "cell_type": "markdown",
   "metadata": {},
   "source": [
    "The deadliest aviation accident involving a single plane happened in August 12th 1985 in Japan, with 520 fatalities."
   ]
  },
  {
   "cell_type": "code",
   "execution_count": null,
   "metadata": {},
   "outputs": [
    {
     "data": {
      "text/html": [
       "<img src=\"https://www.baaa-acro.com/sites/default/files/crash/images/JA8119-2.jpg\" width=\"500\" class=\"unconfined\" alt=\"JL123 Crash\"/>"
      ],
      "text/plain": [
       "<IPython.core.display.Image object>"
      ]
     },
     "metadata": {},
     "output_type": "display_data"
    }
   ],
   "source": [
    "# Display accident\n",
    "display(Image(url='https://www.baaa-acro.com/sites/default/files/crash/images/JA8119-2.jpg', width=500, unconfined=True, alt='JL123 Crash'))"
   ]
  },
  {
   "cell_type": "markdown",
   "metadata": {},
   "source": [
    "### Top 5 deadliest accidents involving more than one aircraft"
   ]
  },
  {
   "cell_type": "code",
   "execution_count": null,
   "metadata": {},
   "outputs": [],
   "source": [
    "# Get accidents involving multiple aircrafts\n",
    "nb_accidents = df.groupby(['date', 'location', 'country', 'site']) \\\n",
    "\t.agg(nb_aircrafts=('total_fatalities', 'size'), total_fatalities=('total_fatalities', 'sum'))\n",
    "nb_accidents"
   ]
  },
  {
   "cell_type": "code",
   "execution_count": 25,
   "metadata": {},
   "outputs": [
    {
     "data": {
      "text/html": [
       "<div>\n",
       "<style scoped>\n",
       "    .dataframe tbody tr th:only-of-type {\n",
       "        vertical-align: middle;\n",
       "    }\n",
       "\n",
       "    .dataframe tbody tr th {\n",
       "        vertical-align: top;\n",
       "    }\n",
       "\n",
       "    .dataframe thead th {\n",
       "        text-align: right;\n",
       "    }\n",
       "</style>\n",
       "<table border=\"1\" class=\"dataframe\">\n",
       "  <thead>\n",
       "    <tr style=\"text-align: right;\">\n",
       "      <th></th>\n",
       "      <th>date</th>\n",
       "      <th>aircraft_type</th>\n",
       "      <th>operator</th>\n",
       "      <th>location</th>\n",
       "      <th>country</th>\n",
       "      <th>site</th>\n",
       "      <th>total_fatalities</th>\n",
       "    </tr>\n",
       "  </thead>\n",
       "  <tbody>\n",
       "    <tr>\n",
       "      <th>23890</th>\n",
       "      <td>1977-03-27 17:06:00</td>\n",
       "      <td>Boeing 747-100</td>\n",
       "      <td>Pan American World Airways - PAA</td>\n",
       "      <td>Tenerife-Norte-Los Rodeos</td>\n",
       "      <td>Spain</td>\n",
       "      <td>Airport (less than 10 km from airport)</td>\n",
       "      <td>335</td>\n",
       "    </tr>\n",
       "    <tr>\n",
       "      <th>23891</th>\n",
       "      <td>1977-03-27 17:06:00</td>\n",
       "      <td>Boeing 747-200</td>\n",
       "      <td>KLM Royal Dutch Airlines - Koninklijke Luchtva...</td>\n",
       "      <td>Tenerife-Norte-Los Rodeos</td>\n",
       "      <td>Spain</td>\n",
       "      <td>Airport (less than 10 km from airport)</td>\n",
       "      <td>248</td>\n",
       "    </tr>\n",
       "  </tbody>\n",
       "</table>\n",
       "</div>"
      ],
      "text/plain": [
       "                     date   aircraft_type  \\\n",
       "23890 1977-03-27 17:06:00  Boeing 747-100   \n",
       "23891 1977-03-27 17:06:00  Boeing 747-200   \n",
       "\n",
       "                                                operator  \\\n",
       "23890                   Pan American World Airways - PAA   \n",
       "23891  KLM Royal Dutch Airlines - Koninklijke Luchtva...   \n",
       "\n",
       "                        location country  \\\n",
       "23890  Tenerife-Norte-Los Rodeos   Spain   \n",
       "23891  Tenerife-Norte-Los Rodeos   Spain   \n",
       "\n",
       "                                         site  total_fatalities  \n",
       "23890  Airport (less than 10 km from airport)               335  \n",
       "23891  Airport (less than 10 km from airport)               248  "
      ]
     },
     "execution_count": 25,
     "metadata": {},
     "output_type": "execute_result"
    }
   ],
   "source": [
    "# Get two planes involved in March 27th 1977 collision\n",
    "tenerife = (df['date'].dt.year == 1977) & (df['date'].dt.month == 3) & (df['location'].str.contains('Tenerife'))\n",
    "df[tenerife][['date', 'aircraft_type', 'operator', 'location', 'country', 'site' ,'total_fatalities']]"
   ]
  },
  {
   "cell_type": "code",
   "execution_count": null,
   "metadata": {},
   "outputs": [
    {
     "data": {
      "text/plain": [
       "583"
      ]
     },
     "execution_count": 26,
     "metadata": {},
     "output_type": "execute_result"
    }
   ],
   "source": [
    "# Get total deaths\n",
    "df[tenerife]['total_fatalities'].sum()"
   ]
  },
  {
   "cell_type": "markdown",
   "metadata": {},
   "source": [
    "The deadliest aircraft accident involving more than one plane is the collision between two Boeing-747 planes in March 27th 1977 in the Canary Islands, where 583 people were killed. Because of the number of fatalities, this makes it the worst accident ever of the aviation history"
   ]
  },
  {
   "cell_type": "code",
   "execution_count": null,
   "metadata": {},
   "outputs": [
    {
     "data": {
      "text/html": [
       "<img src=\"https://www.baaa-acro.com/sites/default/files/crash/images/PH-BUF-9.jpg\" width=\"500\" class=\"unconfined\" alt=\"KLM plane crash March 27th 1977\"/>"
      ],
      "text/plain": [
       "<IPython.core.display.Image object>"
      ]
     },
     "metadata": {},
     "output_type": "display_data"
    },
    {
     "data": {
      "text/html": [
       "<img src=\"https://www.baaa-acro.com/sites/default/files/crash/images/N736PA-8.jpg\" width=\"500\" class=\"unconfined\" alt=\"Pan Am plane crash in March 27th 1977\"/>"
      ],
      "text/plain": [
       "<IPython.core.display.Image object>"
      ]
     },
     "metadata": {},
     "output_type": "display_data"
    }
   ],
   "source": [
    "# Display two planes involved in accident\n",
    "display(Image(url='https://www.baaa-acro.com/sites/default/files/crash/images/PH-BUF-9.jpg', width=500, unconfined=True, alt='KLM plane crash March 27th 1977'))\n",
    "display(Image(url='https://www.baaa-acro.com/sites/default/files/crash/images/N736PA-8.jpg', width=500, unconfined=True, alt='Pan Am plane crash in March 27th 1977'))"
   ]
  },
  {
   "cell_type": "markdown",
   "metadata": {},
   "source": [
    "### Proportion of accidents with survivors"
   ]
  },
  {
   "cell_type": "code",
   "execution_count": 29,
   "metadata": {},
   "outputs": [
    {
     "data": {
      "text/plain": [
       "survivors\n",
       "False    0.520397\n",
       "True     0.479603\n",
       "Name: proportion, dtype: float64"
      ]
     },
     "execution_count": 29,
     "metadata": {},
     "output_type": "execute_result"
    }
   ],
   "source": [
    "# Get ratio of accidents with survivors\n",
    "ratio_survivors = df['survivors'].value_counts(normalize=True)\n",
    "ratio_survivors"
   ]
  },
  {
   "cell_type": "code",
   "execution_count": 30,
   "metadata": {},
   "outputs": [
    {
     "data": {
      "image/png": "[encoded data removed]",
      "text/plain": [
       "<Figure size 640x480 with 1 Axes>"
      ]
     },
     "metadata": {},
     "output_type": "display_data"
    }
   ],
   "source": [
    "# Visualization\n",
    "plt.pie(ratio_survivors, autopct='%.1f%%', textprops={'fontsize': 15})\n",
    "plt.legend(labels=ratio_survivors.index)\n",
    "plt.title('Proportion of aircraft crashes with survivors')\n",
    "plt.show()"
   ]
  },
  {
   "cell_type": "code",
   "execution_count": 31,
   "metadata": {},
   "outputs": [
    {
     "data": {
      "text/plain": [
       "True     0.378762\n",
       "False    0.621238\n",
       "dtype: float64"
      ]
     },
     "execution_count": 31,
     "metadata": {},
     "output_type": "execute_result"
    }
   ],
   "source": [
    "# Get ratio of accidents where all people survived\n",
    "all_survived_mask = df['total_fatalities'] == 0\n",
    "\n",
    "ratio_no_deaths = pd.Series({\n",
    "  True: len(df[all_survived_mask]) / len(df),\n",
    "  False: len(df[~all_survived_mask]) / len(df)\n",
    "})\n",
    "ratio_no_deaths"
   ]
  },
  {
   "cell_type": "code",
   "execution_count": 32,
   "metadata": {},
   "outputs": [
    {
     "data": {
      "image/png": "[encoded data removed]",
      "text/plain": [
       "<Figure size 640x480 with 1 Axes>"
      ]
     },
     "metadata": {},
     "output_type": "display_data"
    }
   ],
   "source": [
    "# Visualization\n",
    "plt.pie(ratio_no_deaths, autopct='%.1f%%', textprops={'fontsize': 15})\n",
    "plt.legend(labels=ratio_no_deaths.index)\n",
    "plt.title('Proportion of aircraft crashes where all people survived')\n",
    "plt.show()"
   ]
  },
  {
   "cell_type": "markdown",
   "metadata": {},
   "source": [
    "### Correlation between numeric variables"
   ]
  },
  {
   "cell_type": "code",
   "execution_count": null,
   "metadata": {},
   "outputs": [],
   "source": [
    "corr_matrix = df.corr(numeric_only=True)\n",
    "sns.heatmap(corr_matrix, annot=True);"
   ]
  },
  {
   "cell_type": "code",
   "execution_count": null,
   "metadata": {},
   "outputs": [],
   "source": [
    "sns.clustermap(corr_matrix, annot=True);"
   ]
  },
  {
   "cell_type": "markdown",
   "metadata": {},
   "source": [
    "## End"
   ]
  }
 ],
 "metadata": {
  "kernelspec": {
   "display_name": "base",
   "language": "python",
   "name": "python3"
  },
  "language_info": {
   "codemirror_mode": {
    "name": "ipython",
    "version": 3
   },
   "file_extension": ".py",
   "mimetype": "text/x-python",
   "name": "python",
   "nbconvert_exporter": "python",
   "pygments_lexer": "ipython3",
   "version": "3.12.4"
  }
 },
 "nbformat": 4,
 "nbformat_minor": 2
}
