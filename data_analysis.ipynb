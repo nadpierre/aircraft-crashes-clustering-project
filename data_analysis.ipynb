{
 "cells": [
  {
   "cell_type": "markdown",
   "metadata": {},
   "source": [
    "- Exploratory Data Analysis\n",
    "  - Most involved aircraft in accident\n",
    "  - Worst accidents in terms of fatalities\n",
    "  - Average number of accidents per year\n",
    "  - Month with the most accidents\n",
    "  - Location with the most accidents\n",
    "  - Airline companies with the most accidents\n",
    "  - Year with the most accidents\n",
    "  - Year with the most fatalities (deadliest year)\n",
    "  - Day with the most fatalities (deadliest day)\n",
    "  - Type of flights with the most accidents\n",
    "  - Proportion of accidents where all people survived\n",
    "  - Time when accidents happen the most (night or day)\n",
    "  - Ratio of pilot flight hours vs. copilot flight hours (is there a big seniority difference, copilot might be afraid to speak up)"
   ]
  }
 ],
 "metadata": {
  "language_info": {
   "name": "python"
  }
 },
 "nbformat": 4,
 "nbformat_minor": 2
}
