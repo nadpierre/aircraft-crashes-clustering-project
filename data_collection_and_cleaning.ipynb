{
 "cells": [
  {
   "cell_type": "markdown",
   "metadata": {},
   "source": [
    "# Aircraft Crashes Data Collection And Cleaning"
   ]
  },
  {
   "cell_type": "markdown",
   "metadata": {},
   "source": [
    "## Overview"
   ]
  },
  {
   "cell_type": "markdown",
   "metadata": {},
   "source": [
    "This notebook collects and prepares the data for the analysis of all the aircraft accidents since 1918."
   ]
  },
  {
   "cell_type": "markdown",
   "metadata": {},
   "source": [
    "### About dataset"
   ]
  },
  {
   "cell_type": "markdown",
   "metadata": {},
   "source": [
    "The data will be scraped from the [BAAA Crash Archives](https://www.baaa-acro.com/crash-archives) and the [ASN Database](https://asn.flightsafety.org/database/)."
   ]
  },
  {
   "cell_type": "markdown",
   "metadata": {},
   "source": [
    "**BAAA**\n",
    "\n",
    "`date` date and local time of the accident<br>\n",
    "`aircraft_type` aircraft make and model<br>\n",
    "`operator` operator of the aircraft<br>\n",
    "`registration` unique code to a single aircraft, required by international convention<br>\n",
    "`flight_phase` phase of the flight when the accident occured<br>\n",
    "`flight_type` type of flight (ex: military)<br>\n",
    "`survivors` indicates if there was survivors or not<br>\n",
    "`site` type of location where the accident happened (ex: mountains)<br>\n",
    "`departure` city where the departure was planned<br> \n",
    "`arrival` city where the arrival was planned<br> \n",
    "`msn` manufacturer's serial number of the aircraft<br>\n",
    "`yom` year of manufacture of the aircraft involved in the accident<br>\n",
    "`flight_number` flight number<br>\n",
    "`location` location of the accident<br>\n",
    "`country` country where the crash happened<br>\n",
    "`region` region of the world where the crash happened<br>\n",
    "`crew_on_board` number of crew members on board at the time of the accident<br>\n",
    "`crew_fatalities` number of crew members who died in the crash<br>\n",
    "`pax_on_board` number of passengers on board at the time of the accident<br> \n",
    "`pax_fatalities` number of passengers who died in the crash<br>                 \n",
    "`other_fatalities` other victims of the accident outside of the aircraft<br>\n",
    "`total_fatalities` total number of deaths<br>\n",
    "`captain_flying_hours` number of flying hours of the captain<br>\n",
    "`captain_flying_hours_on_type` number of hours the captain flew on the type of aircraft involved in the crash<br>\n",
    "`copilot_flying_hours` number of flying hours of the copilot<br>  \n",
    "`copilot_flying_hours_on_type` number of hours the copilot flew on the type of aircraft involved in the crash<br>  \n",
    "`aircraft_flying_hours` number of flying hours of the aircraft before the crash<br>\n",
    "`aircraft_flight_cycles` number of flights of the aircraft<br><br>\n",
    "\n",
    "\n",
    "**ASN**\n",
    "\n",
    "`date` date of the accident<br>\n",
    "`time` time of the accident<br>\n",
    "`type` make and model of the aircraft<br>\n",
    "`first_flight` year the aircraft was inaugurated<br>\n",
    "`engine` type and number of engines<br>\n",
    "`owner` operator of the aircraft<br>\n",
    "`registration` unique code to a single aircraft, required by international convention<br>\n",
    "`msn` manufacturer's serial number of the aircraft<br>\n",
    "`year_of_manufacture` year of manufacture of the aircraft involved in the accident<br>\n",
    "`total_airframe_hrs` number of flying hours of the aircraft before the crash<br>\n",
    "`cycles` number of flights of the aircraft<br>\n",
    "`engine_model` make and model of the aircraft engine<br>\n",
    "`fatalities` total number of fatalities<br>\n",
    "`occupants` number of crew members and passengers on board<br>\n",
    "`other_fatalities` other victims of the accident outside of the aircraft<br>\n",
    "`aircraft_damage` severity of the aircraft damage\n",
    "`category` type of accident<br>\n",
    "`location` location of the crash<br>\n",
    "`phase` phase of the flight when the accident occured<br>\n",
    "`nature` type of flight (ex: military)<br>\n",
    "`departure_airport` airport where the departure was planned<br>\n",
    "`destination_airport` airport when the arrival was planned<br>\n",
    "`investigating_agency` agency who made the accident deport<br>\n",
    "`confidence_rating` quality of the information (ex: missing information)"
   ]
  },
  {
   "cell_type": "markdown",
   "metadata": {},
   "source": [
    "---"
   ]
  },
  {
   "cell_type": "markdown",
   "metadata": {},
   "source": [
    "## Data Collection"
   ]
  },
  {
   "cell_type": "code",
   "execution_count": null,
   "metadata": {},
   "outputs": [],
   "source": [
    "from bs4 import BeautifulSoup\n",
    "from datetime import datetime\n",
    "from geopy.extra.rate_limiter import RateLimiter\n",
    "from geopy.geocoders import Nominatim\n",
    "import math\n",
    "import numpy as np\n",
    "import pandas as pd\n",
    "import pickle\n",
    "import re\n",
    "import requests\n",
    "from urllib.parse import unquote"
   ]
  },
  {
   "cell_type": "markdown",
   "metadata": {},
   "source": [
    "### BAAA"
   ]
  },
  {
   "cell_type": "code",
   "execution_count": null,
   "metadata": {},
   "outputs": [],
   "source": [
    "# Scrape total number of accidents\n",
    "root_url = 'https://www.baaa-acro.com'\n",
    "\n",
    "response = requests.get(root_url)\n",
    "soup = BeautifulSoup(response.content, 'html.parser')\n",
    "accident_files = soup.find('div', {'class': 'total-accident-files'})\n",
    "nb_crashes = int(accident_files.text.replace(',', ''))\n",
    "\t"
   ]
  },
  {
   "cell_type": "code",
   "execution_count": null,
   "metadata": {},
   "outputs": [],
   "source": [
    "# Scrape details of all accidents\n",
    "nb_rows_per_page = 20\n",
    "nb_pages = math.ceil(nb_crashes / nb_rows_per_page)\n",
    "csv_path = 'data/baaa_scraped_data.csv'\n",
    "\n",
    "for i in range(nb_pages):\n",
    "\tlisting_url = '{}/crash-archives?page={}'.format(root_url, i)\n",
    "\tresponse = requests.get(listing_url)\n",
    "\tsoup = BeautifulSoup(response.content, 'html.parser')\n",
    "\tanchors = soup.find_all('a', {'class': 'red-btn'})\n",
    "\n",
    "\tcrash_list = []\n",
    "\t\n",
    "\tfor j, a in enumerate(anchors):\n",
    "\t\tlink = a['href']\n",
    "\t\t#print('Page {}, link {}: {}{}'.format(i, j + 1, root_url, link))\n",
    "\t\tdetails_url = root_url + link\n",
    "\t\tresponse = requests.get(details_url)\n",
    "\t\tsoup = BeautifulSoup(response.content, 'html.parser')\n",
    "\t\tdetails = {}\n",
    "\t\t\n",
    "\t\tdetails_div = soup.find('div', {'class': 'crash-details'})\n",
    "\t\t\n",
    "\t\tdate_div = details_div.find('div', {'class': 'crash-date'})\n",
    "\t\tdetails['date'] = date_div.find('span').next_sibling.text.strip() if date_div else None\n",
    "\t\t\n",
    "\t\taircraft_div = details_div.find('div', {'class': 'crash-aircraft'})\n",
    "\t\tdetails['aircraft_type'] = aircraft_div.find('a').find('div').text if aircraft_div else None\n",
    "\t\t\n",
    "\t\toperator_div = details_div.find('div', {'class': 'crash-operator'})\n",
    "\n",
    "\t\tif operator_div:\n",
    "\t\t\tif (operator_div.find('img')): # Extract operator name from image link\n",
    "\t\t\t\tpattern = re.compile(r'(?<=target_id=).*(?= \\(\\d+\\))')\n",
    "\t\t\t\timg_link = unquote(operator_div.find('img').parent['href'])\n",
    "\t\t\t\tdetails['operator'] = pattern.search(img_link).group(0)\n",
    "\t\t\telse:\n",
    "\t\t\t\tdetails['operator'] = operator_div.find('a').find('div').text\n",
    "\t\telse:\n",
    "\t\t\tdetails['operator'] = None\n",
    "\n",
    "\t\treg_div = details_div.find('div', {'class': 'crash-registration'})\n",
    "\t\tdetails['registration'] = reg_div.find('div').text if reg_div else None\n",
    "\t\t\n",
    "\t\tflight_phase_div = details_div.find('div', {'class': 'crash-flight-phase'})\n",
    "\t\tdetails['flight_phase'] = flight_phase_div.find('a').find('div').text if flight_phase_div else None\n",
    "\t\t\n",
    "\t\tflight_type_div = details_div.find('div', {'class': 'crash-flight-type'})\n",
    "\t\tdetails['flight_type'] = flight_type_div.find('a').find('div').text if flight_type_div else None\n",
    "\t\t\n",
    "\t\tsurvivors_div = details_div.find('div', {'class': 'crash-survivors'})\n",
    "\t\tdetails['survivors'] = survivors_div.find('a').find('div').text if survivors_div else None\n",
    "\t\t\n",
    "\t\tsite_div = details_div.find('div', {'class': 'crash-site'})\n",
    "\t\tdetails['site'] = site_div.find('a').find('div').text if site_div else None\n",
    "\t\t\n",
    "\t\tschedule_div = details_div.find('div', {'class': 'crash-schedule'})\n",
    "\t\tdetails['schedule'] = schedule_div.find('div').text if schedule_div else None\n",
    "\t\t\n",
    "\t\tmsn_div = details_div.find('div', {'class': 'crash-construction-num'})\n",
    "\t\tdetails['msn'] = msn_div.find('div').text if msn_div else None\n",
    "\t\t\n",
    "\t\tyom_div = details_div.find('div', {'class': 'crash-yom'})\n",
    "\t\tdetails['yom'] = yom_div.find('div').text if yom_div else None\n",
    "\n",
    "\t\tflight_number = details_div.find('div', {'class': 'crash-flight-number'})\n",
    "\t\tdetails['flight_number'] = flight_number.find('div').text if flight_number else None\n",
    "\t\t\n",
    "\t\tlocation_div = details_div.find('div', {'class': 'crash-location'})\n",
    "\t\tif location_div:\n",
    "\t\t\tlocation_details = location_div.select('a')\n",
    "\t\t\tdetails['location'] = ', '.join(item.text.strip() for item in location_details) if location_details else None\n",
    "\t\telse:\n",
    "\t\t\tdetails['location'] = None\n",
    "\t\t\n",
    "\t\tcountry_div = details_div.find('div', {'class': 'crash-country'})\n",
    "\t\tdetails['country'] = country_div.find('a').find('div').text if country_div else None\n",
    "\t\t\n",
    "\t\tregion_div = details_div.find('div', {'class': 'crash-region'})\n",
    "\t\tdetails['region'] = region_div.find('a').find('div').text if region_div else None\n",
    "\t\t\n",
    "\t\tcrew_on_board_div = details_div.find('div', {'class': 'crash-crew-on-board'})\n",
    "\t\tdetails['crew_on_board'] = crew_on_board_div.find('div').text if crew_on_board_div else None\n",
    "\t\t\n",
    "\t\tcrew_fatalities_div = details_div.find('div', {'class': 'crash-crew-fatalities'})\n",
    "\t\tdetails['crew_fatalities'] = crew_fatalities_div.find('div').text if crew_fatalities_div else None\n",
    "\t\t\n",
    "\t\tpax_on_board_div = details_div.find('div', {'class': 'crash-pax-on-board'})\n",
    "\t\tdetails['pax_on_board'] = pax_on_board_div.find('div').text if pax_on_board_div else None\n",
    "\t\t\n",
    "\t\tpax_fatalities_div = details_div.find('div', {'class': 'crash-pax-fatalities'})\n",
    "\t\tdetails['pax_fatalities'] = pax_fatalities_div.find('div').text if pax_fatalities_div else None\n",
    "\t\t\n",
    "\t\tothers_div = details_div.find('div', {'class': 'crash-other-fatalities'})\n",
    "\t\tdetails['other_fatalities'] = others_div.find('div').text if others_div else None\n",
    "\t\t\n",
    "\t\ttotal_fatalities_div = details_div.find('div', {'class': 'crash-total-fatalities'})\n",
    "\t\tdetails['total_fatalities'] = total_fatalities_div.find('div').text if total_fatalities_div else None\n",
    "\n",
    "\t\tcaptain_hours_div = details_div.find('div', {'class': 'captain-total-flying-hours'})\n",
    "\t\tdetails['captain_flying_hours'] = captain_hours_div.find('div').text if captain_hours_div else None\n",
    "\n",
    "\t\tcaptain_hours_type_div = details_div.find('div', {'class': 'captain-total-hours-type'})\n",
    "\t\tdetails['captain_flying_hours_on_type'] = captain_hours_type_div.find('div').text if captain_hours_type_div else None\n",
    "\n",
    "\t\tcopilot_hours_div = details_div.find('div', {'class': 'copilot-total-flying-hours'})\n",
    "\t\tdetails['copilot_flying_hours'] = copilot_hours_div.find('div').text if copilot_hours_div else None\n",
    "\n",
    "\t\tcopilot_hours_type_div = details_div.find('div', {'class': 'copilot-total-hours-type'})\n",
    "\t\tdetails['copilot_flying_hours_on_type'] = copilot_hours_type_div.find('div').text if copilot_hours_type_div else None\n",
    "\n",
    "\t\taircraft_hours_div = details_div.find('div', {'class': 'crash-aircraft-flight-hours'})\n",
    "\t\tdetails['aircraft_flying_hours'] = aircraft_hours_div.find('div').text if aircraft_hours_div else None\n",
    "\n",
    "\t\taircraft_cycles_div = details_div.find('div', {'class': 'crash-aircraft-flight-cycles'})\n",
    "\t\tdetails['aircraft_flight_cycles'] = aircraft_cycles_div.find('div').text if aircraft_cycles_div else None\n",
    "\t\t\n",
    "\t\tcrash_list.append(details)\n",
    "\t\n",
    "\tdf = pd.DataFrame(crash_list)\n",
    "\n",
    "\tif i == 0:\n",
    "\t\tdf.to_csv(csv_path, index=False)\n",
    "\telse:\n",
    "\t\tdf.to_csv(csv_path, index=False, header=False, mode='a')\n"
   ]
  },
  {
   "cell_type": "markdown",
   "metadata": {},
   "source": [
    "### ASN"
   ]
  },
  {
   "cell_type": "code",
   "execution_count": null,
   "metadata": {},
   "outputs": [],
   "source": [
    "csv_path = 'data/asn_scraped_data.csv'\n",
    "root_url = 'https://asn.flightsafety.org'\n",
    "\n",
    "# Add headers to avoid 403 unauthorized error\n",
    "headers = {\n",
    "  'User-Agent': 'Mozilla/5.0 (Macintosh; Intel Mac OS X 10_15_7) AppleWebKit/537.36 (KHTML, like Gecko) Chrome/134.0.0.0 Safari/537.36'\n",
    "}\n",
    "\n",
    "database = '/database'\n",
    "database_url = root_url + database\n",
    "\n",
    "#for year in range(1919, 2026):\n",
    "for year in range(1973, 2026):\n",
    "\tyear_url = '{}{}/year/{}/1'.format(root_url, database, year)\n",
    "\tresponse = requests.get(year_url, headers=headers)\n",
    "\tsoup = BeautifulSoup(response.content, 'html.parser')\n",
    "\tnb_occurences_txt = soup.find('div', {'class': 'innertube'}).find('span').text\n",
    "\tpattern = re.compile(r'\\d+(?= occurrences)')\n",
    "\tnb_occurences = int(pattern.search(nb_occurences_txt).group(0))\n",
    "\tmax_items_per_page = 100\n",
    "\tnb_pages = math.ceil(nb_occurences / max_items_per_page)\n",
    "\n",
    "\t#for page in range(1, nb_pages + 1):\n",
    "\tfor page in range(1, nb_pages + 1):\n",
    "\t\tpage_url = '{}{}/year/{}/{}'.format(root_url, database, year, page)\n",
    "\t\tresponse = requests.get(page_url, headers=headers)\n",
    "\t\tsoup = BeautifulSoup(response.content, 'html.parser')\n",
    "\t\ttable = soup.find('table', {'class': 'hp'})\n",
    "\t\tanchors = table.find_all('a')\n",
    "\t\tlinks = [a['href'] for a in anchors]\n",
    "\t\t\n",
    "\t\tcrash_list = []\n",
    "\t\tfor i, link in enumerate(links):\n",
    "\t\t\tdetails_url = root_url + link\n",
    "\t\t\tprint('Year {}, page {}, item {}, link: {}'.format(year, page, i + 1, details_url))\n",
    "\t\t\tresponse = requests.get(details_url, headers=headers)\n",
    "\t\t\tsoup = BeautifulSoup(response.content, 'html.parser')\n",
    "\t\t\ttable = soup.find('table')\n",
    "\t\t\tdetails = {}\n",
    "\n",
    "\t\t\tdate_label = table.find('td', string='Date:')\n",
    "\t\t\tdetails['date'] = date_label.next_sibling.text\n",
    "\n",
    "\t\t\ttime_label = table.find('td', string='Time:')\n",
    "\t\t\tdetails['time'] = time_label.next_sibling.text\n",
    "\n",
    "\t\t\ttype_label = table.find('td', string='Type:')\n",
    "\t\t\tanchor = type_label.next_sibling.find('a')\n",
    "\n",
    "\t\t\tif anchor: # Get more details about aircraft if link exists\n",
    "\t\t\t\tdetails['type'] = anchor.text\n",
    "\t\t\t\thref = anchor['href']\n",
    "\t\t\t\ttype_url = root_url + href\n",
    "\t\t\t\ttype_response = requests.get(type_url, headers=headers)\n",
    "\t\t\t\ttype_soup = BeautifulSoup(type_response.content, 'html.parser')\n",
    "\t\t\t\ttype_table = type_soup.find('table')\n",
    "\t\t\t\ttype_details = list(type_table.find('td', {'valign': 'top'}).stripped_strings)\n",
    "\t\t\t\tdetails['type_details'] = ', '.join(type_details)\n",
    "\t\t\telse:\n",
    "\t\t\t\tdetails['type'] = type_label.next_sibling.text\n",
    "\t\t\t\tdetails['type_details'] = None\n",
    "\n",
    "\t\t\towner_label = table.find('td', string='Owner/operator:')\n",
    "\t\t\tdetails['owner'] = owner_label.next_sibling.text\n",
    "\n",
    "\t\t\treg_label = table.find('td', string='Registration:')\n",
    "\t\t\tdetails['registration'] = reg_label.next_sibling.text\n",
    "\n",
    "\t\t\tmsn_label = table.find('td', string='MSN:')\n",
    "\t\t\tdetails['msn'] = msn_label.next_sibling.text\n",
    "\n",
    "\t\t\tyom_label = table.find('td', string='Year of manufacture:')\n",
    "\t\t\tdetails['year_of_manufacture'] = yom_label.next_sibling.text if yom_label else None\n",
    "\n",
    "\t\t\tair_hours_label = table.find('td', string='Total airframe hrs:')\n",
    "\t\t\tdetails['total_airframe_hrs'] = air_hours_label.next_sibling.text if air_hours_label else None\n",
    "\n",
    "\t\t\tcycles_label = table.find('td', string='Cycles:')\n",
    "\t\t\tdetails['cycles'] = cycles_label.next_sibling.text if cycles_label else None\n",
    "\n",
    "\t\t\tengine_label = table.find('td', string='Engine model:')\n",
    "\t\t\tdetails['engine_model'] = engine_label.next_sibling.text if engine_label else None\n",
    "\n",
    "\t\t\tfatal_label = table.find('td', string='Fatalities:')\n",
    "\t\t\tdetails['fatalities'] = fatal_label.next_sibling.text\n",
    "\n",
    "\t\t\tother_label = table.find('td', string='Other fatalities:')\n",
    "\t\t\tdetails['other_fatalities'] = other_label.next_sibling.text\n",
    "\n",
    "\t\t\tdamage_label = table.find('td', string='Aircraft damage:')\n",
    "\t\t\tdetails['aircraft_damage'] = damage_label.next_sibling.text\n",
    "\n",
    "\t\t\tcat_label = table.find('td', string='Category:')\n",
    "\t\t\tdetails['category'] = cat_label.next_sibling.text if cat_label else None\n",
    "\n",
    "\t\t\tloc_label = table.find('td', string='Location:')\n",
    "\t\t\tdetails['location'] = ' '.join(loc_label.next_sibling.stripped_strings)\n",
    "\n",
    "\t\t\tphase_label = table.find('td', string='Phase:')\n",
    "\t\t\tdetails['phase'] = phase_label.next_sibling.text\n",
    "\n",
    "\t\t\tnature_label = table.find('td', string='Nature:')\n",
    "\t\t\tdetails['nature'] = nature_label.next_sibling.text\n",
    "\n",
    "\t\t\tdep_label = table.find('td', string='Departure airport:')\n",
    "\t\t\tdetails['departure_airport'] = dep_label.next_sibling.text\n",
    "\n",
    "\t\t\tdes_label = table.find('td', string='Destination airport:')\n",
    "\t\t\tdetails['destination_airport'] = des_label.next_sibling.text\n",
    "\n",
    "\t\t\tinv_label = table.find('td', string=re.compile('Investigating'))\n",
    "\t\t\tdetails['investigating_agency'] = inv_label.next_sibling.text if inv_label else None\n",
    "\n",
    "\t\t\tconf_label = table.find('td', string='Confidence Rating:')\n",
    "\t\t\tdetails['confidence_rating'] = ''.join(conf_label.next_sibling.stripped_strings) if conf_label else None\n",
    "\n",
    "\t\t\tcrash_list.append(details)\n",
    "\t\t\n",
    "\t\tdf = pd.DataFrame(crash_list)\n",
    "\n",
    "\t\tif year == 1919 and page == 1:\n",
    "\t\t\tdf.to_csv(csv_path, index=False)\n",
    "\t\telse:\n",
    "\t\t\tdf.to_csv(csv_path, index=False, header=False, mode='a')"
   ]
  },
  {
   "cell_type": "markdown",
   "metadata": {},
   "source": [
    "---"
   ]
  },
  {
   "cell_type": "markdown",
   "metadata": {},
   "source": [
    "## Data Exploration"
   ]
  },
  {
   "cell_type": "markdown",
   "metadata": {},
   "source": [
    "### BAAA"
   ]
  },
  {
   "cell_type": "code",
   "execution_count": null,
   "metadata": {},
   "outputs": [],
   "source": [
    "baaa_df = pd.read_csv('data/baaa_scraped_data.csv')\n",
    "baaa_df.head()"
   ]
  },
  {
   "cell_type": "code",
   "execution_count": null,
   "metadata": {},
   "outputs": [],
   "source": [
    "baaa_df.info()"
   ]
  },
  {
   "cell_type": "code",
   "execution_count": null,
   "metadata": {},
   "outputs": [],
   "source": [
    "baaa_df.isnull().sum()"
   ]
  },
  {
   "cell_type": "code",
   "execution_count": null,
   "metadata": {},
   "outputs": [],
   "source": [
    "# Check for duplicates\n",
    "baaa_df[baaa_df.duplicated(keep=False)]"
   ]
  },
  {
   "cell_type": "markdown",
   "metadata": {},
   "source": [
    "### ASN"
   ]
  },
  {
   "cell_type": "code",
   "execution_count": null,
   "metadata": {},
   "outputs": [],
   "source": [
    "asn_df = pd.read_csv('data/asn_scraped_data.csv')\n",
    "asn_df.head()"
   ]
  },
  {
   "cell_type": "code",
   "execution_count": null,
   "metadata": {},
   "outputs": [],
   "source": [
    "asn_df.info()"
   ]
  },
  {
   "cell_type": "code",
   "execution_count": null,
   "metadata": {},
   "outputs": [],
   "source": [
    "asn_df.isnull().sum()"
   ]
  },
  {
   "cell_type": "code",
   "execution_count": null,
   "metadata": {},
   "outputs": [],
   "source": [
    "# Check for duplicates\n",
    "asn_df[asn_df.duplicated(keep=False)]"
   ]
  },
  {
   "cell_type": "markdown",
   "metadata": {},
   "source": [
    "---"
   ]
  },
  {
   "cell_type": "markdown",
   "metadata": {},
   "source": [
    "## Data Cleaning"
   ]
  },
  {
   "cell_type": "code",
   "execution_count": null,
   "metadata": {},
   "outputs": [],
   "source": [
    "# Remove duplicates\n",
    "baaa_df = baaa_df.drop_duplicates()\n",
    "asn_df = asn_df.drop_duplicates()"
   ]
  },
  {
   "cell_type": "code",
   "execution_count": null,
   "metadata": {},
   "outputs": [],
   "source": [
    "# Strip whitespaces\n",
    "def remove_whitespaces(df):\n",
    "\tfor column in df.columns:\n",
    "\t\tif df[column].dtype == 'object':\n",
    "\t\t\tdf[column] = df[column].str.strip()\n",
    "\treturn df\n",
    "\n",
    "baaa_df = remove_whitespaces(baaa_df)\n",
    "asn_df = remove_whitespaces(asn_df)"
   ]
  },
  {
   "cell_type": "markdown",
   "metadata": {},
   "source": [
    "### Merge dataframes on date and registration number"
   ]
  },
  {
   "cell_type": "markdown",
   "metadata": {},
   "source": [
    "Although it's not very likely, the same aircraft can be involved in multiple accidents. Combining the registration number and the date ensures the unicity of the rows.\n",
    "\n",
    "The main (left) dataset will be the one from BAAA as it's the most reliable and the second (right) one will be ASN dataset."
   ]
  },
  {
   "cell_type": "code",
   "execution_count": null,
   "metadata": {},
   "outputs": [],
   "source": [
    "# Convert BAAA date to datetime\n",
    "baaa_df['date'] = pd.to_datetime(baaa_df['date'], format='%b %d, %Y at %H%M LT', errors='coerce') \\\n",
    "\t\t\t\t.fillna(pd.to_datetime(baaa_df['date'], format='%b %d, %Y', errors='coerce'))\n",
    "assert baaa_df['date'].isna().sum() == 0"
   ]
  },
  {
   "cell_type": "code",
   "execution_count": null,
   "metadata": {},
   "outputs": [],
   "source": [
    "# Convert ASN date and time to datetime\n",
    "asn_df['date'] = pd.to_datetime(asn_df['date'], format='%A %d %B %Y', errors='coerce')"
   ]
  },
  {
   "cell_type": "code",
   "execution_count": null,
   "metadata": {},
   "outputs": [],
   "source": [
    "# Keep data after 1945 (after World War II)\n",
    "baaa_df = baaa_df[baaa_df['date'].dt.year > 1945]\n",
    "asn_df = asn_df[asn_df['date'].dt.year > 1945]"
   ]
  },
  {
   "cell_type": "code",
   "execution_count": null,
   "metadata": {},
   "outputs": [],
   "source": [
    "# Create date string column\n",
    "baaa_df['date_str'] = baaa_df['date'].dt.strftime('%Y-%m-%d')\n",
    "asn_df['date_str'] = asn_df['date'].dt.strftime('%Y-%m-%d')"
   ]
  },
  {
   "cell_type": "code",
   "execution_count": null,
   "metadata": {},
   "outputs": [],
   "source": [
    "# Merge two dataframes\n",
    "df = pd.merge(left=baaa_df, right=asn_df, how='left', on=['registration', 'date_str'])\n",
    "df.head()"
   ]
  },
  {
   "cell_type": "markdown",
   "metadata": {},
   "source": [
    "### Add latitude and longitude"
   ]
  },
  {
   "cell_type": "code",
   "execution_count": null,
   "metadata": {},
   "outputs": [],
   "source": [
    "# Merge location (BAAA, then ASN, then country)\n",
    "df['location'] = df['location_x'].fillna(df['location_y']).fillna(df['country'])\n",
    "df = df.drop(['location_x', 'location_y'], axis=1)\n",
    "assert df['location'].isnull().sum() == 0"
   ]
  },
  {
   "cell_type": "code",
   "execution_count": null,
   "metadata": {},
   "outputs": [],
   "source": [
    "# Get coordinates from geocoder\n",
    "geolocator = Nominatim(user_agent='aircraft_crashes_analysis')\n",
    "geocoder = RateLimiter(geolocator.geocode, min_delay_seconds=1)\n",
    "\n",
    "def get_coord(row, country=True) -> str:\n",
    "\tresult = np.nan\n",
    "\t\n",
    "\ttry:\n",
    "\t\tif (country):\n",
    "\t\t\tlocation = geocoder(row['country'], language='en', exactly_one=True)\n",
    "\t\telse:\n",
    "\t\t\tlocation = geocoder(row['location'], language='en', exactly_one=True)\n",
    "\t\t\n",
    "\t\tif (location):\n",
    "\t\t\tprint('Coordinates: ({}, {})'.format(location.latitude, location.longitude))\n",
    "\t\t\tresult = str(location.latitude) + ', ' + str(location.longitude)\n",
    "\texcept:\n",
    "\t\tprint('An error occured')\n",
    "\t\n",
    "\treturn result\n"
   ]
  },
  {
   "cell_type": "code",
   "execution_count": null,
   "metadata": {},
   "outputs": [],
   "source": [
    "# Add column with coordinates\n",
    "df['lat_lng'] = df.apply(get_coord, axis=1)"
   ]
  },
  {
   "cell_type": "code",
   "execution_count": null,
   "metadata": {},
   "outputs": [],
   "source": [
    "# Inpute missing coordinates with country coordinates\n",
    "mask = df['lat_lng'].isna()\n",
    "df.loc[mask, 'lat_lng'] = df[mask].apply(get_coord, country=True, axis=1)"
   ]
  },
  {
   "cell_type": "code",
   "execution_count": null,
   "metadata": {},
   "outputs": [],
   "source": [
    "# Export data\n",
    "df.to_csv('data/merged_data_with_coordinates.csv', index=False)"
   ]
  },
  {
   "cell_type": "markdown",
   "metadata": {},
   "source": [
    "---"
   ]
  },
  {
   "cell_type": "markdown",
   "metadata": {},
   "source": [
    "### Continue data cleaning with added coordinates"
   ]
  },
  {
   "cell_type": "code",
   "execution_count": 118,
   "metadata": {},
   "outputs": [],
   "source": [
    "import numpy as np\n",
    "import pandas as pd\n",
    "import pickle"
   ]
  },
  {
   "cell_type": "code",
   "execution_count": 119,
   "metadata": {},
   "outputs": [
    {
     "data": {
      "text/html": [
       "<div>\n",
       "<style scoped>\n",
       "    .dataframe tbody tr th:only-of-type {\n",
       "        vertical-align: middle;\n",
       "    }\n",
       "\n",
       "    .dataframe tbody tr th {\n",
       "        vertical-align: top;\n",
       "    }\n",
       "\n",
       "    .dataframe thead th {\n",
       "        text-align: right;\n",
       "    }\n",
       "</style>\n",
       "<table border=\"1\" class=\"dataframe\">\n",
       "  <thead>\n",
       "    <tr style=\"text-align: right;\">\n",
       "      <th></th>\n",
       "      <th>date_x</th>\n",
       "      <th>aircraft_type</th>\n",
       "      <th>operator</th>\n",
       "      <th>registration</th>\n",
       "      <th>flight_phase</th>\n",
       "      <th>flight_type</th>\n",
       "      <th>survivors</th>\n",
       "      <th>site</th>\n",
       "      <th>schedule</th>\n",
       "      <th>msn_x</th>\n",
       "      <th>...</th>\n",
       "      <th>aircraft_damage</th>\n",
       "      <th>category</th>\n",
       "      <th>phase</th>\n",
       "      <th>nature</th>\n",
       "      <th>departure_airport</th>\n",
       "      <th>destination_airport</th>\n",
       "      <th>investigating_agency</th>\n",
       "      <th>confidence_rating</th>\n",
       "      <th>location</th>\n",
       "      <th>lat_lng</th>\n",
       "    </tr>\n",
       "  </thead>\n",
       "  <tbody>\n",
       "    <tr>\n",
       "      <th>0</th>\n",
       "      <td>2025-03-17 18:18:00</td>\n",
       "      <td>BAe Jetstream 31</td>\n",
       "      <td>Línea Aérea Nacional de Honduras - LANHSA</td>\n",
       "      <td>HR-AYW</td>\n",
       "      <td>Takeoff (climb)</td>\n",
       "      <td>Scheduled Revenue Flight</td>\n",
       "      <td>Yes</td>\n",
       "      <td>Lake, Sea, Ocean, River</td>\n",
       "      <td>Roatán – La Ceiba</td>\n",
       "      <td>863</td>\n",
       "      <td>...</td>\n",
       "      <td>Destroyed</td>\n",
       "      <td>Accident</td>\n",
       "      <td>Initial climb</td>\n",
       "      <td>Passenger</td>\n",
       "      <td>Roatán-Juan Manuel Gálvez International Airpor...</td>\n",
       "      <td>La Ceiba-Goloson International Airport (LCE/MHLC)</td>\n",
       "      <td>NaN</td>\n",
       "      <td>Information is only available from news, socia...</td>\n",
       "      <td>Roatán Islas de la Bahía</td>\n",
       "      <td>16.34902105, -86.49775125625627</td>\n",
       "    </tr>\n",
       "    <tr>\n",
       "      <th>1</th>\n",
       "      <td>2025-03-13 07:33:00</td>\n",
       "      <td>Cessna 525 CitationJet CJ2</td>\n",
       "      <td>LBL 525 CZ LLC</td>\n",
       "      <td>N525CZ</td>\n",
       "      <td>Takeoff (climb)</td>\n",
       "      <td>Private</td>\n",
       "      <td>No</td>\n",
       "      <td>Plain, Valley</td>\n",
       "      <td>Mesquite - Addison</td>\n",
       "      <td>525A-0380</td>\n",
       "      <td>...</td>\n",
       "      <td>Destroyed</td>\n",
       "      <td>Accident</td>\n",
       "      <td>Initial climb</td>\n",
       "      <td>Ferry/positioning</td>\n",
       "      <td>Mesquite Metro Airport, TX (KHQZ)</td>\n",
       "      <td>Dallas-Addison Airport, TX (ADS/KADS)</td>\n",
       "      <td>NTSB</td>\n",
       "      <td>Information is only available from news, socia...</td>\n",
       "      <td>Mesquite Metro, Texas</td>\n",
       "      <td>32.749898900000005, -96.53114976775751</td>\n",
       "    </tr>\n",
       "    <tr>\n",
       "      <th>2</th>\n",
       "      <td>2025-03-07 00:00:00</td>\n",
       "      <td>Antonov AN-32</td>\n",
       "      <td>Indian Air Force - Bharatiya Vayu Sena</td>\n",
       "      <td>NaN</td>\n",
       "      <td>Landing (descent or approach)</td>\n",
       "      <td>Military</td>\n",
       "      <td>Yes</td>\n",
       "      <td>Airport (less than 10 km from airport)</td>\n",
       "      <td>NaN</td>\n",
       "      <td>NaN</td>\n",
       "      <td>...</td>\n",
       "      <td>NaN</td>\n",
       "      <td>NaN</td>\n",
       "      <td>NaN</td>\n",
       "      <td>NaN</td>\n",
       "      <td>NaN</td>\n",
       "      <td>NaN</td>\n",
       "      <td>NaN</td>\n",
       "      <td>NaN</td>\n",
       "      <td>Bagdogra, West Bengal</td>\n",
       "      <td>26.6981094, 88.3245465</td>\n",
       "    </tr>\n",
       "    <tr>\n",
       "      <th>3</th>\n",
       "      <td>2025-03-04 09:54:00</td>\n",
       "      <td>BAe Jetstream 31</td>\n",
       "      <td>SAETA Perú (Servicios Aéreos Tarapota)</td>\n",
       "      <td>OB-2178</td>\n",
       "      <td>Landing (descent or approach)</td>\n",
       "      <td>Scheduled Revenue Flight</td>\n",
       "      <td>Yes</td>\n",
       "      <td>Airport (less than 10 km from airport)</td>\n",
       "      <td>Iquitos - Güeppí</td>\n",
       "      <td>861</td>\n",
       "      <td>...</td>\n",
       "      <td>Destroyed</td>\n",
       "      <td>Accident</td>\n",
       "      <td>Landing</td>\n",
       "      <td>Passenger</td>\n",
       "      <td>Iquitos-Coronel FAP Francisco Secada Vignetta ...</td>\n",
       "      <td>Güeppi Airport (SPGP)</td>\n",
       "      <td>NaN</td>\n",
       "      <td>Information is only available from news, socia...</td>\n",
       "      <td>Güeppí, Loreto</td>\n",
       "      <td>-0.1176738, -75.2510798</td>\n",
       "    </tr>\n",
       "    <tr>\n",
       "      <th>4</th>\n",
       "      <td>2025-02-25 00:00:00</td>\n",
       "      <td>Antonov AN-26</td>\n",
       "      <td>Sudanese Air Force - Al Quwwat al-Jawwiya As-S...</td>\n",
       "      <td>NaN</td>\n",
       "      <td>Takeoff (climb)</td>\n",
       "      <td>Military</td>\n",
       "      <td>No</td>\n",
       "      <td>City</td>\n",
       "      <td>NaN</td>\n",
       "      <td>NaN</td>\n",
       "      <td>...</td>\n",
       "      <td>NaN</td>\n",
       "      <td>NaN</td>\n",
       "      <td>NaN</td>\n",
       "      <td>NaN</td>\n",
       "      <td>NaN</td>\n",
       "      <td>NaN</td>\n",
       "      <td>NaN</td>\n",
       "      <td>NaN</td>\n",
       "      <td>Wadi Seidna AFB, Khartoum (الخرطوم)</td>\n",
       "      <td>14.5844444, 29.4917691</td>\n",
       "    </tr>\n",
       "  </tbody>\n",
       "</table>\n",
       "<p>5 rows × 49 columns</p>\n",
       "</div>"
      ],
      "text/plain": [
       "               date_x               aircraft_type  \\\n",
       "0 2025-03-17 18:18:00            BAe Jetstream 31   \n",
       "1 2025-03-13 07:33:00  Cessna 525 CitationJet CJ2   \n",
       "2 2025-03-07 00:00:00               Antonov AN-32   \n",
       "3 2025-03-04 09:54:00            BAe Jetstream 31   \n",
       "4 2025-02-25 00:00:00               Antonov AN-26   \n",
       "\n",
       "                                            operator registration  \\\n",
       "0          Línea Aérea Nacional de Honduras - LANHSA       HR-AYW   \n",
       "1                                     LBL 525 CZ LLC       N525CZ   \n",
       "2             Indian Air Force - Bharatiya Vayu Sena          NaN   \n",
       "3             SAETA Perú (Servicios Aéreos Tarapota)      OB-2178   \n",
       "4  Sudanese Air Force - Al Quwwat al-Jawwiya As-S...          NaN   \n",
       "\n",
       "                    flight_phase               flight_type survivors  \\\n",
       "0                Takeoff (climb)  Scheduled Revenue Flight       Yes   \n",
       "1                Takeoff (climb)                   Private        No   \n",
       "2  Landing (descent or approach)                  Military       Yes   \n",
       "3  Landing (descent or approach)  Scheduled Revenue Flight       Yes   \n",
       "4                Takeoff (climb)                  Military        No   \n",
       "\n",
       "                                     site            schedule      msn_x  ...  \\\n",
       "0                 Lake, Sea, Ocean, River   Roatán – La Ceiba        863  ...   \n",
       "1                           Plain, Valley  Mesquite - Addison  525A-0380  ...   \n",
       "2  Airport (less than 10 km from airport)                 NaN        NaN  ...   \n",
       "3  Airport (less than 10 km from airport)    Iquitos - Güeppí        861  ...   \n",
       "4                                    City                 NaN        NaN  ...   \n",
       "\n",
       "   aircraft_damage  category          phase             nature  \\\n",
       "0        Destroyed  Accident  Initial climb          Passenger   \n",
       "1        Destroyed  Accident  Initial climb  Ferry/positioning   \n",
       "2              NaN       NaN            NaN                NaN   \n",
       "3        Destroyed  Accident        Landing          Passenger   \n",
       "4              NaN       NaN            NaN                NaN   \n",
       "\n",
       "                                   departure_airport  \\\n",
       "0  Roatán-Juan Manuel Gálvez International Airpor...   \n",
       "1                  Mesquite Metro Airport, TX (KHQZ)   \n",
       "2                                                NaN   \n",
       "3  Iquitos-Coronel FAP Francisco Secada Vignetta ...   \n",
       "4                                                NaN   \n",
       "\n",
       "                                 destination_airport  investigating_agency  \\\n",
       "0  La Ceiba-Goloson International Airport (LCE/MHLC)                   NaN   \n",
       "1              Dallas-Addison Airport, TX (ADS/KADS)                  NTSB   \n",
       "2                                                NaN                   NaN   \n",
       "3                              Güeppi Airport (SPGP)                   NaN   \n",
       "4                                                NaN                   NaN   \n",
       "\n",
       "                                   confidence_rating  \\\n",
       "0  Information is only available from news, socia...   \n",
       "1  Information is only available from news, socia...   \n",
       "2                                                NaN   \n",
       "3  Information is only available from news, socia...   \n",
       "4                                                NaN   \n",
       "\n",
       "                              location                                 lat_lng  \n",
       "0             Roatán Islas de la Bahía         16.34902105, -86.49775125625627  \n",
       "1                Mesquite Metro, Texas  32.749898900000005, -96.53114976775751  \n",
       "2                Bagdogra, West Bengal                  26.6981094, 88.3245465  \n",
       "3                       Güeppí, Loreto                 -0.1176738, -75.2510798  \n",
       "4  Wadi Seidna AFB, Khartoum (الخرطوم)                  14.5844444, 29.4917691  \n",
       "\n",
       "[5 rows x 49 columns]"
      ]
     },
     "execution_count": 119,
     "metadata": {},
     "output_type": "execute_result"
    }
   ],
   "source": [
    "# Load data\n",
    "df = pd.read_csv('data/merged_data_with_coordinates.csv', parse_dates=['date_x'])\n",
    "df.head()"
   ]
  },
  {
   "cell_type": "markdown",
   "metadata": {},
   "source": [
    "### Split some columns into multiple"
   ]
  },
  {
   "cell_type": "code",
   "execution_count": 120,
   "metadata": {},
   "outputs": [],
   "source": [
    "# Split schedule into 2 columns\n",
    "schedule = df['schedule'].str.split(' - ', expand=True)\n",
    "df['departure'] = schedule[0]\n",
    "df['arrival'] = schedule[1]\n",
    "df = df.drop('schedule', axis=1)"
   ]
  },
  {
   "cell_type": "code",
   "execution_count": 121,
   "metadata": {},
   "outputs": [],
   "source": [
    "# Split lat_lng into 2 columns\n",
    "split_columns = df['lat_lng'].str.split(', ', expand=True)\n",
    "df['latitude'] = split_columns[0]\n",
    "df['longitude'] = split_columns[1]\n",
    "df = df.drop('lat_lng', axis=1)"
   ]
  },
  {
   "cell_type": "code",
   "execution_count": 122,
   "metadata": {},
   "outputs": [],
   "source": [
    "# Split type details into 2 columns\n",
    "df['type_details'] = df['type_details'].str.extract(r'(\\bFirst flight: \\d{4}, .*)$', expand=False)\n",
    "details = df['type_details'].str.split(', ', expand=True)\n",
    "df['first_flight'] = details[0].str.extract(r'(\\d{4})', expand=False)\n",
    "df['engine'] = details[1]\n",
    "df = df.drop('type_details', axis=1)"
   ]
  },
  {
   "cell_type": "code",
   "execution_count": 123,
   "metadata": {},
   "outputs": [],
   "source": [
    "# Split fatalities from ASN\n",
    "fatalities = df['fatalities'].str.split(' / ', expand=True)\n",
    "df['fatalities'] = fatalities[0].str.extract(r'(\\d+)')\n",
    "df['occupants'] = fatalities[1].str.extract(r'(\\d+)')"
   ]
  },
  {
   "cell_type": "markdown",
   "metadata": {},
   "source": [
    "### Merge common columns"
   ]
  },
  {
   "cell_type": "code",
   "execution_count": 124,
   "metadata": {},
   "outputs": [],
   "source": [
    "df['date'] = df['date_x']\n",
    "df = df.drop(['date_x', 'date_y', 'time'], axis=1)\n",
    "df['date'] = pd.to_datetime(df['date'].dt.strftime('%Y-%m-%d'))"
   ]
  },
  {
   "cell_type": "code",
   "execution_count": 125,
   "metadata": {},
   "outputs": [],
   "source": [
    "df['operator'] = df['operator'].fillna(df['owner'])\n",
    "df = df.drop('owner', axis=1)"
   ]
  },
  {
   "cell_type": "code",
   "execution_count": 126,
   "metadata": {},
   "outputs": [],
   "source": [
    "df['type'] = df['aircraft_type'].fillna(df['type'])\n",
    "df = df.drop('aircraft_type', axis=1)"
   ]
  },
  {
   "cell_type": "code",
   "execution_count": 127,
   "metadata": {},
   "outputs": [],
   "source": [
    "df['yom'] = df['yom'].fillna(df['year_of_manufacture'])\n",
    "df = df.drop('year_of_manufacture', axis=1)"
   ]
  },
  {
   "cell_type": "code",
   "execution_count": 128,
   "metadata": {},
   "outputs": [],
   "source": [
    "df['aircraft_flying_hours'] = df['aircraft_flying_hours'].fillna(df['total_airframe_hrs'])\n",
    "df = df.drop('total_airframe_hrs', axis=1)"
   ]
  },
  {
   "cell_type": "code",
   "execution_count": 129,
   "metadata": {},
   "outputs": [],
   "source": [
    "df['aircraft_flight_cycles'] = df['aircraft_flight_cycles'].fillna(df['cycles'])\n",
    "df = df.drop('cycles', axis=1)"
   ]
  },
  {
   "cell_type": "code",
   "execution_count": 130,
   "metadata": {},
   "outputs": [],
   "source": [
    "df['msn'] = df['msn_x'].fillna(df['msn_y'])\n",
    "df = df.drop(['msn_x', 'msn_y'], axis=1)"
   ]
  },
  {
   "cell_type": "code",
   "execution_count": 131,
   "metadata": {},
   "outputs": [],
   "source": [
    "df['flight_phase'] = df['flight_phase'].fillna(df['phase'])\n",
    "df = df.drop('phase', axis=1)"
   ]
  },
  {
   "cell_type": "code",
   "execution_count": 132,
   "metadata": {},
   "outputs": [],
   "source": [
    "df['flight_type'] = df['flight_type'].fillna(df['nature'])\n",
    "df = df.drop('nature', axis=1)"
   ]
  },
  {
   "cell_type": "code",
   "execution_count": 133,
   "metadata": {},
   "outputs": [],
   "source": [
    "df['departure'] = df['departure_airport'].fillna(df['departure'])\n",
    "df = df.drop('departure_airport', axis=1)"
   ]
  },
  {
   "cell_type": "code",
   "execution_count": 134,
   "metadata": {},
   "outputs": [],
   "source": [
    "df['arrival'] = df['destination_airport'].fillna(df['arrival'])\n",
    "df = df.drop('destination_airport', axis=1)"
   ]
  },
  {
   "cell_type": "code",
   "execution_count": 135,
   "metadata": {},
   "outputs": [],
   "source": [
    "on_board = df['crew_on_board'] + df['pax_on_board']\n",
    "df['occupants'] = on_board.fillna(df['occupants'])\n",
    "df = df.drop(['crew_on_board', 'pax_on_board'], axis=1)"
   ]
  },
  {
   "cell_type": "code",
   "execution_count": 136,
   "metadata": {},
   "outputs": [],
   "source": [
    "df['fatalities'] = df['total_fatalities'].fillna(df['fatalities'])\n",
    "df = df.drop(['crew_fatalities', 'pax_fatalities', 'total_fatalities'], axis=1)"
   ]
  },
  {
   "cell_type": "code",
   "execution_count": 137,
   "metadata": {},
   "outputs": [],
   "source": [
    "df['other_fatalities'] = df['other_fatalities_x'].fillna(df['other_fatalities_y'])\n",
    "df = df.drop(['other_fatalities_x', 'other_fatalities_y'], axis=1)"
   ]
  },
  {
   "cell_type": "code",
   "execution_count": 138,
   "metadata": {},
   "outputs": [
    {
     "name": "stdout",
     "output_type": "stream",
     "text": [
      "<class 'pandas.core.frame.DataFrame'>\n",
      "RangeIndex: 21281 entries, 0 to 21280\n",
      "Data columns (total 35 columns):\n",
      " #   Column                        Non-Null Count  Dtype         \n",
      "---  ------                        --------------  -----         \n",
      " 0   operator                      21281 non-null  object        \n",
      " 1   registration                  20742 non-null  object        \n",
      " 2   flight_phase                  21055 non-null  object        \n",
      " 3   flight_type                   21258 non-null  object        \n",
      " 4   survivors                     20634 non-null  object        \n",
      " 5   site                          21057 non-null  object        \n",
      " 6   yom                           19098 non-null  float64       \n",
      " 7   flight_number                 2801 non-null   object        \n",
      " 8   country                       21281 non-null  object        \n",
      " 9   region                        21281 non-null  object        \n",
      " 10  captain_flying_hours          6680 non-null   float64       \n",
      " 11  captain_flying_hours_on_type  5699 non-null   float64       \n",
      " 12  copilot_flying_hours          2160 non-null   float64       \n",
      " 13  copilot_flying_hours_on_type  1933 non-null   float64       \n",
      " 14  aircraft_flying_hours         5687 non-null   object        \n",
      " 15  aircraft_flight_cycles        1534 non-null   object        \n",
      " 16  date_str                      21281 non-null  object        \n",
      " 17  type                          21281 non-null  object        \n",
      " 18  engine_model                  6654 non-null   object        \n",
      " 19  fatalities                    21281 non-null  int64         \n",
      " 20  aircraft_damage               11674 non-null  object        \n",
      " 21  category                      11539 non-null  object        \n",
      " 22  investigating_agency          2967 non-null   object        \n",
      " 23  confidence_rating             5312 non-null   object        \n",
      " 24  location                      21281 non-null  object        \n",
      " 25  departure                     16196 non-null  object        \n",
      " 26  arrival                       14165 non-null  object        \n",
      " 27  latitude                      21263 non-null  object        \n",
      " 28  longitude                     21263 non-null  object        \n",
      " 29  first_flight                  11109 non-null  object        \n",
      " 30  engine                        11109 non-null  object        \n",
      " 31  occupants                     21261 non-null  object        \n",
      " 32  date                          21281 non-null  datetime64[ns]\n",
      " 33  msn                           19595 non-null  object        \n",
      " 34  other_fatalities              21275 non-null  float64       \n",
      "dtypes: datetime64[ns](1), float64(6), int64(1), object(27)\n",
      "memory usage: 5.7+ MB\n"
     ]
    }
   ],
   "source": [
    "df.info()"
   ]
  },
  {
   "cell_type": "markdown",
   "metadata": {},
   "source": [
    "### Drop rows and columns"
   ]
  },
  {
   "cell_type": "markdown",
   "metadata": {},
   "source": [
    "#### Drop redundant/unnecessary columns"
   ]
  },
  {
   "cell_type": "markdown",
   "metadata": {},
   "source": [
    "**registration, msn**<br>\n",
    "Those are unique identifiers or an aircraft.\n",
    "\n",
    "**flight_number**<br>\n",
    "It's an unique identifier of an flight.\n",
    "\n",
    "**captain_flying_hours, captain_flying_hours_on_type, copilot_flying_hours, copilot_flying_hours_on_type, aircraft_flying_hours, aircraft_flight_cycles, departure, arrival**<br>\n",
    "There are too many null values.\n",
    "\n",
    "**date_str**<br>\n",
    "It was used to merge the dataframes.\n",
    "\n",
    "**survivors**<br>\n",
    "It can be calculated with the number of occupants minus the number of fatalities.\n",
    "\n",
    "**first_flight**<br>\n",
    "It's the first flight of the aircraft in general, not the one involved in the accident\n",
    "\n",
    "**investigating_agency, confidence_rating**<br>\n",
    "It won't help categorize the data."
   ]
  },
  {
   "cell_type": "code",
   "execution_count": 139,
   "metadata": {},
   "outputs": [],
   "source": [
    "columns_to_drop = [\n",
    "  'registration',\n",
    "  'msn',\n",
    "  'flight_number',\n",
    "  'captain_flying_hours', \n",
    "  'captain_flying_hours_on_type', \n",
    "  'copilot_flying_hours',\n",
    "  'copilot_flying_hours_on_type',\n",
    "  'aircraft_flying_hours', \n",
    "  'aircraft_flight_cycles',\n",
    "  'departure',\n",
    "  'arrival',\n",
    "  'date_str',\n",
    "  'survivors',\n",
    "  'first_flight',\n",
    "  'investigating_agency',\n",
    "  'confidence_rating']\n",
    "\n",
    "df = df.drop(columns_to_drop, axis=1)"
   ]
  },
  {
   "cell_type": "markdown",
   "metadata": {},
   "source": [
    "#### Drop rows"
   ]
  },
  {
   "cell_type": "code",
   "execution_count": 140,
   "metadata": {},
   "outputs": [],
   "source": [
    "# Keep data from 1970 to now\n",
    "df = df[df['date'].dt.year >= 1970]"
   ]
  },
  {
   "cell_type": "code",
   "execution_count": 141,
   "metadata": {},
   "outputs": [],
   "source": [
    "# Drop other rows\n",
    "subset = ['latitude', 'longitude', 'occupants', 'yom']\n",
    "df = df.dropna(subset=subset)"
   ]
  },
  {
   "cell_type": "markdown",
   "metadata": {},
   "source": [
    "### Impute missing values"
   ]
  },
  {
   "cell_type": "markdown",
   "metadata": {},
   "source": [
    "#### String columns"
   ]
  },
  {
   "cell_type": "code",
   "execution_count": 142,
   "metadata": {},
   "outputs": [],
   "source": [
    "columns = df.drop(['latitude', 'longitude', 'occupants'], axis=1).select_dtypes(include='object').columns\n",
    "\n",
    "for column in columns:\n",
    "\tdf[column] = df[column].fillna('Unknown')"
   ]
  },
  {
   "cell_type": "code",
   "execution_count": 143,
   "metadata": {},
   "outputs": [
    {
     "name": "stdout",
     "output_type": "stream",
     "text": [
      "<class 'pandas.core.frame.DataFrame'>\n",
      "Index: 12980 entries, 0 to 13641\n",
      "Data columns (total 19 columns):\n",
      " #   Column            Non-Null Count  Dtype         \n",
      "---  ------            --------------  -----         \n",
      " 0   operator          12980 non-null  object        \n",
      " 1   flight_phase      12980 non-null  object        \n",
      " 2   flight_type       12980 non-null  object        \n",
      " 3   site              12980 non-null  object        \n",
      " 4   yom               12980 non-null  float64       \n",
      " 5   country           12980 non-null  object        \n",
      " 6   region            12980 non-null  object        \n",
      " 7   type              12980 non-null  object        \n",
      " 8   engine_model      12980 non-null  object        \n",
      " 9   fatalities        12980 non-null  int64         \n",
      " 10  aircraft_damage   12980 non-null  object        \n",
      " 11  category          12980 non-null  object        \n",
      " 12  location          12980 non-null  object        \n",
      " 13  latitude          12980 non-null  object        \n",
      " 14  longitude         12980 non-null  object        \n",
      " 15  engine            12980 non-null  object        \n",
      " 16  occupants         12980 non-null  object        \n",
      " 17  date              12980 non-null  datetime64[ns]\n",
      " 18  other_fatalities  12975 non-null  float64       \n",
      "dtypes: datetime64[ns](1), float64(2), int64(1), object(15)\n",
      "memory usage: 2.0+ MB\n"
     ]
    }
   ],
   "source": [
    "df.info()"
   ]
  },
  {
   "cell_type": "markdown",
   "metadata": {},
   "source": [
    "#### Numeric columns"
   ]
  },
  {
   "cell_type": "code",
   "execution_count": 144,
   "metadata": {},
   "outputs": [],
   "source": [
    "# Inpute missing other_fatalities to 0\n",
    "df['other_fatalities'] = df['other_fatalities'].fillna(0)\n",
    "assert df['other_fatalities'].isna().sum() == 0"
   ]
  },
  {
   "cell_type": "code",
   "execution_count": 145,
   "metadata": {},
   "outputs": [],
   "source": [
    "# Assert there are no more null values\n",
    "assert df.isna().sum().sum() == 0"
   ]
  },
  {
   "cell_type": "markdown",
   "metadata": {},
   "source": [
    "### Collapse categories"
   ]
  },
  {
   "cell_type": "code",
   "execution_count": 146,
   "metadata": {},
   "outputs": [
    {
     "data": {
      "text/plain": [
       "array(['Approach', 'En route', 'Flight', 'Landing',\n",
       "       'Landing (descent or approach)', 'Parking', 'Take off',\n",
       "       'Takeoff (climb)', 'Taxiing', 'Unknown'], dtype=object)"
      ]
     },
     "execution_count": 146,
     "metadata": {},
     "output_type": "execute_result"
    }
   ],
   "source": [
    "# Get unique values of flight phase\n",
    "df['flight_phase'].sort_values().unique()"
   ]
  },
  {
   "cell_type": "code",
   "execution_count": 147,
   "metadata": {},
   "outputs": [
    {
     "data": {
      "text/plain": [
       "array(['Flight', 'Landing (descent or approach)', 'Parking',\n",
       "       'Takeoff (climb)', 'Taxiing', 'Unknown'], dtype=object)"
      ]
     },
     "execution_count": 147,
     "metadata": {},
     "output_type": "execute_result"
    }
   ],
   "source": [
    "df['flight_phase'] = np.where(df['flight_phase'].isin(['Take off', 'Initial climb']), 'Takeoff (climb)', df['flight_phase'])\n",
    "df['flight_phase'] = np.where(df['flight_phase'] == 'En route', 'Flight', df['flight_phase'])\n",
    "df['flight_phase'] = np.where(df['flight_phase'].isin(['Landing', 'Approach']), 'Landing (descent or approach)', df['flight_phase'])\n",
    "df['flight_phase'] = np.where(df['flight_phase'] == 'Taxi', 'Taxiing', df['flight_phase'])\n",
    "df['flight_phase'] = np.where(df['flight_phase'] == 'Standing', 'Parking', df['flight_phase'])\n",
    "df['flight_phase'].sort_values().unique()"
   ]
  },
  {
   "cell_type": "code",
   "execution_count": 148,
   "metadata": {},
   "outputs": [
    {
     "data": {
      "text/plain": [
       "array(['-', 'Aerial photography', 'Aerobatic', 'Ambulance', 'Bombing',\n",
       "       'Calibration', 'Cargo',\n",
       "       'Charter/Taxi (Non Scheduled Revenue Flight)', 'Cinematography',\n",
       "       'Delivery', 'Demonstration', 'Executive/Corporate/Business',\n",
       "       'Ferry', 'Fire fighting',\n",
       "       'Geographical / Geophysical / Scientific', 'Government',\n",
       "       'Humanitarian', 'Illegal (smuggling)', 'Meteorological / Weather',\n",
       "       'Military', 'Positioning', 'Postal (mail)', 'Private',\n",
       "       'Refuelling', 'Scheduled Revenue Flight',\n",
       "       'Skydiving / Paratroopers', 'Spraying (Agricultural)', 'Supply',\n",
       "       'Survey / Patrol / Reconnaissance', 'Test', 'Topographic',\n",
       "       'Training', 'Unknown'], dtype=object)"
      ]
     },
     "execution_count": 148,
     "metadata": {},
     "output_type": "execute_result"
    }
   ],
   "source": [
    "# Get unique values of flight_type\n",
    "df['flight_type'].sort_values().unique()"
   ]
  },
  {
   "cell_type": "code",
   "execution_count": 149,
   "metadata": {},
   "outputs": [
    {
     "data": {
      "text/plain": [
       "array(['Aerial photography', 'Aerobatic', 'Ambulance', 'Bombing',\n",
       "       'Calibration', 'Cargo',\n",
       "       'Charter/Taxi (Non Scheduled Revenue Flight)', 'Cinematography',\n",
       "       'Delivery', 'Demonstration', 'Executive/Corporate/Business',\n",
       "       'Ferry', 'Fire fighting',\n",
       "       'Geographical / Geophysical / Scientific', 'Government',\n",
       "       'Humanitarian', 'Illegal (smuggling)', 'Meteorological / Weather',\n",
       "       'Military', 'Positioning', 'Postal (mail)', 'Private',\n",
       "       'Refuelling', 'Scheduled Revenue Flight',\n",
       "       'Skydiving / Paratroopers', 'Spraying (Agricultural)', 'Supply',\n",
       "       'Survey / Patrol / Reconnaissance', 'Test', 'Topographic',\n",
       "       'Training', 'Unknown'], dtype=object)"
      ]
     },
     "execution_count": 149,
     "metadata": {},
     "output_type": "execute_result"
    }
   ],
   "source": [
    "# Regroup values\n",
    "df['flight_type'] = np.where(df['flight_type'] == '-', 'Unknown', df['flight_type'])\n",
    "df['flight_type'].sort_values().unique()"
   ]
  },
  {
   "cell_type": "code",
   "execution_count": 150,
   "metadata": {},
   "outputs": [
    {
     "data": {
      "text/plain": [
       "array(['Aircraft missing, written off', 'Destroyed',\n",
       "       'Destroyed, written off', 'Minor, repaired', 'Minor, written off',\n",
       "       'Substantial', 'Substantial, repaired', 'Substantial, written off',\n",
       "       'Unknown', 'Unknown, written off'], dtype=object)"
      ]
     },
     "execution_count": 150,
     "metadata": {},
     "output_type": "execute_result"
    }
   ],
   "source": [
    "# Get unique values of aircraft_damage\n",
    "df['aircraft_damage'].sort_values().unique()"
   ]
  },
  {
   "cell_type": "code",
   "execution_count": 151,
   "metadata": {},
   "outputs": [
    {
     "data": {
      "text/plain": [
       "array(['Aircraft missing', 'Destroyed', 'Minor', 'Minor, repaired',\n",
       "       'Substantial', 'Substantial, repaired', 'Unknown'], dtype=object)"
      ]
     },
     "execution_count": 151,
     "metadata": {},
     "output_type": "execute_result"
    }
   ],
   "source": [
    "# Regroup values\n",
    "df['aircraft_damage'] = df['aircraft_damage'].str.replace(', written off', '')\n",
    "df['aircraft_damage'].sort_values().unique()"
   ]
  },
  {
   "cell_type": "code",
   "execution_count": 152,
   "metadata": {},
   "outputs": [
    {
     "data": {
      "text/plain": [
       "array(['Accident', 'Incident', 'Other', 'Serious incident', 'UK',\n",
       "       'Unknown', 'Unlawful Interference'], dtype=object)"
      ]
     },
     "execution_count": 152,
     "metadata": {},
     "output_type": "execute_result"
    }
   ],
   "source": [
    "# Get unique values of category\n",
    "df['category'].sort_values().unique()"
   ]
  },
  {
   "cell_type": "code",
   "execution_count": 153,
   "metadata": {},
   "outputs": [
    {
     "data": {
      "text/plain": [
       "array(['Accident', 'Incident', 'Serious incident', 'Unknown',\n",
       "       'Unlawful Interference'], dtype=object)"
      ]
     },
     "execution_count": 153,
     "metadata": {},
     "output_type": "execute_result"
    }
   ],
   "source": [
    "# Regroup values\n",
    "df['category'] = np.where(df['category'].isin(['Other', 'UK']), 'Unknown', df['category'])\n",
    "df['category'].sort_values().unique()"
   ]
  },
  {
   "cell_type": "markdown",
   "metadata": {},
   "source": [
    "### Convert columns"
   ]
  },
  {
   "cell_type": "code",
   "execution_count": 154,
   "metadata": {},
   "outputs": [],
   "source": [
    "# Convert yom, occupants and fatalities to int\n",
    "df[['yom', 'occupants', 'fatalities', 'other_fatalities']] = df[['yom', 'occupants', 'fatalities', 'other_fatalities']].astype('int')"
   ]
  },
  {
   "cell_type": "code",
   "execution_count": 155,
   "metadata": {},
   "outputs": [],
   "source": [
    "# Convert coordinates to float\n",
    "df[['latitude', 'longitude']] = df[['latitude', 'longitude']].astype('float')"
   ]
  },
  {
   "cell_type": "code",
   "execution_count": 156,
   "metadata": {},
   "outputs": [
    {
     "name": "stdout",
     "output_type": "stream",
     "text": [
      "<class 'pandas.core.frame.DataFrame'>\n",
      "Index: 12980 entries, 0 to 13641\n",
      "Data columns (total 19 columns):\n",
      " #   Column            Non-Null Count  Dtype         \n",
      "---  ------            --------------  -----         \n",
      " 0   operator          12980 non-null  object        \n",
      " 1   flight_phase      12980 non-null  object        \n",
      " 2   flight_type       12980 non-null  object        \n",
      " 3   site              12980 non-null  object        \n",
      " 4   yom               12980 non-null  int64         \n",
      " 5   country           12980 non-null  object        \n",
      " 6   region            12980 non-null  object        \n",
      " 7   type              12980 non-null  object        \n",
      " 8   engine_model      12980 non-null  object        \n",
      " 9   fatalities        12980 non-null  int64         \n",
      " 10  aircraft_damage   12980 non-null  object        \n",
      " 11  category          12980 non-null  object        \n",
      " 12  location          12980 non-null  object        \n",
      " 13  latitude          12980 non-null  float64       \n",
      " 14  longitude         12980 non-null  float64       \n",
      " 15  engine            12980 non-null  object        \n",
      " 16  occupants         12980 non-null  int64         \n",
      " 17  date              12980 non-null  datetime64[ns]\n",
      " 18  other_fatalities  12980 non-null  int64         \n",
      "dtypes: datetime64[ns](1), float64(2), int64(4), object(12)\n",
      "memory usage: 2.0+ MB\n"
     ]
    }
   ],
   "source": [
    "df.info()"
   ]
  },
  {
   "cell_type": "code",
   "execution_count": 157,
   "metadata": {},
   "outputs": [
    {
     "data": {
      "text/plain": [
       "array(['Accident', 'Incident', 'Serious incident', 'Unknown',\n",
       "       'Unlawful Interference'], dtype=object)"
      ]
     },
     "execution_count": 157,
     "metadata": {},
     "output_type": "execute_result"
    }
   ],
   "source": [
    "df['category'].sort_values().unique()"
   ]
  },
  {
   "cell_type": "code",
   "execution_count": 158,
   "metadata": {},
   "outputs": [
    {
     "data": {
      "text/plain": [
       "Index(['Unknown', 'Incident', 'Serious incident', 'Accident',\n",
       "       'Unlawful Interference'],\n",
       "      dtype='object')"
      ]
     },
     "execution_count": 158,
     "metadata": {},
     "output_type": "execute_result"
    }
   ],
   "source": [
    "categories = ['Unknown', 'Incident', 'Serious incident', 'Accident', 'Unlawful Interference']\n",
    "df['category'] = pd.Categorical(df['category'], categories, ordered=True)\n",
    "df['category'].cat.categories"
   ]
  },
  {
   "cell_type": "code",
   "execution_count": 159,
   "metadata": {},
   "outputs": [
    {
     "data": {
      "text/plain": [
       "array(['Aircraft missing', 'Destroyed', 'Minor', 'Minor, repaired',\n",
       "       'Substantial', 'Substantial, repaired', 'Unknown'], dtype=object)"
      ]
     },
     "execution_count": 159,
     "metadata": {},
     "output_type": "execute_result"
    }
   ],
   "source": [
    "df['aircraft_damage'].sort_values().unique()"
   ]
  },
  {
   "cell_type": "code",
   "execution_count": 160,
   "metadata": {},
   "outputs": [
    {
     "data": {
      "text/plain": [
       "Index(['Unknown', 'Minor, repaired', 'Minor', 'Substantial, repaired',\n",
       "       'Substantial', 'Destroyed', 'Aircraft missing'],\n",
       "      dtype='object')"
      ]
     },
     "execution_count": 160,
     "metadata": {},
     "output_type": "execute_result"
    }
   ],
   "source": [
    "categories = [\n",
    "  \t'Unknown',\n",
    "  \t'Minor, repaired',\n",
    "  \t'Minor',\n",
    "  \t'Substantial, repaired',\n",
    "  \t'Substantial',\n",
    "\t'Destroyed',\n",
    "  \t'Aircraft missing']\n",
    "df['aircraft_damage'] = pd.Categorical(df['aircraft_damage'], categories, ordered=True)\n",
    "df['aircraft_damage'].cat.categories"
   ]
  },
  {
   "cell_type": "code",
   "execution_count": 161,
   "metadata": {},
   "outputs": [
    {
     "data": {
      "text/plain": [
       "array(['2 Turboprop engines', '2 Jet engines', 'Unknown',\n",
       "       '1 Turboprop engine', '1 Piston engine', '2 Piston engines',\n",
       "       '4 Jet engines', '4 Piston engines', '3 Jet engines',\n",
       "       '1 Jet engine', '4 Turboprop engines', '3 Piston engines'],\n",
       "      dtype=object)"
      ]
     },
     "execution_count": 161,
     "metadata": {},
     "output_type": "execute_result"
    }
   ],
   "source": [
    "df['engine'].unique()"
   ]
  },
  {
   "cell_type": "code",
   "execution_count": 162,
   "metadata": {},
   "outputs": [
    {
     "data": {
      "text/plain": [
       "array(['2 Turboprop engines', '2 Jet engines', 'Unknown',\n",
       "       '1 Turboprop engine', '1 Piston engine', 'Multi Piston Engines',\n",
       "       '4 Jet engines', '3 Jet engines', '1 Jet engine',\n",
       "       '4 Turboprop engines'], dtype=object)"
      ]
     },
     "execution_count": 162,
     "metadata": {},
     "output_type": "execute_result"
    }
   ],
   "source": [
    "df['engine'] = np.where(df['engine'].isin([\n",
    "  '2 Piston engines',\n",
    "  '3 Piston engines',\n",
    "  '4 Piston engines',\n",
    "  '6 Piston engines']), 'Multi Piston Engines', df['engine'])\n",
    "df['engine'].unique()"
   ]
  },
  {
   "cell_type": "code",
   "execution_count": 163,
   "metadata": {},
   "outputs": [
    {
     "data": {
      "text/plain": [
       "array(['Multi Turboprop Engines', '2 Jet engines', 'Unknown',\n",
       "       '1 Turboprop engine', '1 Piston engine', 'Multi Piston Engines',\n",
       "       '4 Jet engines', '3 Jet engines', '1 Jet engine'], dtype=object)"
      ]
     },
     "execution_count": 163,
     "metadata": {},
     "output_type": "execute_result"
    }
   ],
   "source": [
    "df['engine'] = np.where(df['engine'].isin([\n",
    "  '2 Turboprop engines',\n",
    "  '3 Turboprop engines',\n",
    "  '4 Turboprop engines']), 'Multi Turboprop Engines', df['engine'])\n",
    "df['engine'].unique()"
   ]
  },
  {
   "cell_type": "code",
   "execution_count": 164,
   "metadata": {},
   "outputs": [
    {
     "data": {
      "text/plain": [
       "array(['Multi Turboprop Engines', 'Multi Jet Engines', 'Unknown',\n",
       "       '1 Turboprop engine', '1 Piston engine', 'Multi Piston Engines',\n",
       "       '1 Jet engine'], dtype=object)"
      ]
     },
     "execution_count": 164,
     "metadata": {},
     "output_type": "execute_result"
    }
   ],
   "source": [
    "df['engine'] = np.where(df['engine'].isin([\n",
    "  '2 Jet engines',\n",
    "  '3 Jet engines',\n",
    "  '4 Jet engines']), 'Multi Jet Engines', df['engine'])\n",
    "df['engine'].unique()"
   ]
  },
  {
   "cell_type": "code",
   "execution_count": 165,
   "metadata": {},
   "outputs": [
    {
     "data": {
      "text/plain": [
       "Index(['Unknown', '1 Piston engine', 'Multi Piston Engines',\n",
       "       '1 Turboprop engine', 'Multi Turboprop Engines', '1 Jet engine',\n",
       "       'Multi Jet Engines'],\n",
       "      dtype='object')"
      ]
     },
     "execution_count": 165,
     "metadata": {},
     "output_type": "execute_result"
    }
   ],
   "source": [
    "categories = [\n",
    "  'Unknown',\n",
    "  '1 Piston engine',\n",
    "  'Multi Piston Engines',\n",
    "  '1 Turboprop engine',\n",
    "  'Multi Turboprop Engines',\n",
    "  '1 Jet engine',\n",
    "  'Multi Jet Engines']\n",
    "df['engine'] = pd.Categorical(df['engine'], categories, ordered=True)\n",
    "df['engine'].cat.categories"
   ]
  },
  {
   "cell_type": "markdown",
   "metadata": {},
   "source": [
    "### Validate values"
   ]
  },
  {
   "cell_type": "code",
   "execution_count": 166,
   "metadata": {},
   "outputs": [
    {
     "data": {
      "text/html": [
       "<div>\n",
       "<style scoped>\n",
       "    .dataframe tbody tr th:only-of-type {\n",
       "        vertical-align: middle;\n",
       "    }\n",
       "\n",
       "    .dataframe tbody tr th {\n",
       "        vertical-align: top;\n",
       "    }\n",
       "\n",
       "    .dataframe thead th {\n",
       "        text-align: right;\n",
       "    }\n",
       "</style>\n",
       "<table border=\"1\" class=\"dataframe\">\n",
       "  <thead>\n",
       "    <tr style=\"text-align: right;\">\n",
       "      <th></th>\n",
       "      <th>yom</th>\n",
       "      <th>fatalities</th>\n",
       "      <th>latitude</th>\n",
       "      <th>longitude</th>\n",
       "      <th>occupants</th>\n",
       "      <th>date</th>\n",
       "      <th>other_fatalities</th>\n",
       "    </tr>\n",
       "  </thead>\n",
       "  <tbody>\n",
       "    <tr>\n",
       "      <th>count</th>\n",
       "      <td>12980.000000</td>\n",
       "      <td>12980.000000</td>\n",
       "      <td>12980.000000</td>\n",
       "      <td>12980.000000</td>\n",
       "      <td>12980.000000</td>\n",
       "      <td>12980</td>\n",
       "      <td>12980.000000</td>\n",
       "    </tr>\n",
       "    <tr>\n",
       "      <th>mean</th>\n",
       "      <td>1972.362096</td>\n",
       "      <td>6.505470</td>\n",
       "      <td>27.608809</td>\n",
       "      <td>-23.736554</td>\n",
       "      <td>14.449923</td>\n",
       "      <td>1992-11-09 12:05:06.194144768</td>\n",
       "      <td>0.155008</td>\n",
       "    </tr>\n",
       "    <tr>\n",
       "      <th>min</th>\n",
       "      <td>0.000000</td>\n",
       "      <td>0.000000</td>\n",
       "      <td>-72.843869</td>\n",
       "      <td>-179.491343</td>\n",
       "      <td>0.000000</td>\n",
       "      <td>1970-01-02 00:00:00</td>\n",
       "      <td>0.000000</td>\n",
       "    </tr>\n",
       "    <tr>\n",
       "      <th>25%</th>\n",
       "      <td>1965.000000</td>\n",
       "      <td>0.000000</td>\n",
       "      <td>11.100419</td>\n",
       "      <td>-90.455596</td>\n",
       "      <td>2.000000</td>\n",
       "      <td>1979-12-17 12:00:00</td>\n",
       "      <td>0.000000</td>\n",
       "    </tr>\n",
       "    <tr>\n",
       "      <th>50%</th>\n",
       "      <td>1973.000000</td>\n",
       "      <td>1.000000</td>\n",
       "      <td>34.642294</td>\n",
       "      <td>-63.509556</td>\n",
       "      <td>4.000000</td>\n",
       "      <td>1991-02-11 12:00:00</td>\n",
       "      <td>0.000000</td>\n",
       "    </tr>\n",
       "    <tr>\n",
       "      <th>75%</th>\n",
       "      <td>1981.000000</td>\n",
       "      <td>4.000000</td>\n",
       "      <td>45.356511</td>\n",
       "      <td>35.074035</td>\n",
       "      <td>9.000000</td>\n",
       "      <td>2004-05-05 06:00:00</td>\n",
       "      <td>0.000000</td>\n",
       "    </tr>\n",
       "    <tr>\n",
       "      <th>max</th>\n",
       "      <td>19567.000000</td>\n",
       "      <td>520.000000</td>\n",
       "      <td>80.916649</td>\n",
       "      <td>178.029725</td>\n",
       "      <td>524.000000</td>\n",
       "      <td>2025-03-17 00:00:00</td>\n",
       "      <td>297.000000</td>\n",
       "    </tr>\n",
       "    <tr>\n",
       "      <th>std</th>\n",
       "      <td>165.966672</td>\n",
       "      <td>22.249107</td>\n",
       "      <td>25.911950</td>\n",
       "      <td>83.681823</td>\n",
       "      <td>34.882609</td>\n",
       "      <td>NaN</td>\n",
       "      <td>3.581485</td>\n",
       "    </tr>\n",
       "  </tbody>\n",
       "</table>\n",
       "</div>"
      ],
      "text/plain": [
       "                yom    fatalities      latitude     longitude     occupants  \\\n",
       "count  12980.000000  12980.000000  12980.000000  12980.000000  12980.000000   \n",
       "mean    1972.362096      6.505470     27.608809    -23.736554     14.449923   \n",
       "min        0.000000      0.000000    -72.843869   -179.491343      0.000000   \n",
       "25%     1965.000000      0.000000     11.100419    -90.455596      2.000000   \n",
       "50%     1973.000000      1.000000     34.642294    -63.509556      4.000000   \n",
       "75%     1981.000000      4.000000     45.356511     35.074035      9.000000   \n",
       "max    19567.000000    520.000000     80.916649    178.029725    524.000000   \n",
       "std      165.966672     22.249107     25.911950     83.681823     34.882609   \n",
       "\n",
       "                                date  other_fatalities  \n",
       "count                          12980      12980.000000  \n",
       "mean   1992-11-09 12:05:06.194144768          0.155008  \n",
       "min              1970-01-02 00:00:00          0.000000  \n",
       "25%              1979-12-17 12:00:00          0.000000  \n",
       "50%              1991-02-11 12:00:00          0.000000  \n",
       "75%              2004-05-05 06:00:00          0.000000  \n",
       "max              2025-03-17 00:00:00        297.000000  \n",
       "std                              NaN          3.581485  "
      ]
     },
     "execution_count": 166,
     "metadata": {},
     "output_type": "execute_result"
    }
   ],
   "source": [
    "df.describe()"
   ]
  },
  {
   "cell_type": "code",
   "execution_count": 167,
   "metadata": {},
   "outputs": [
    {
     "data": {
      "text/html": [
       "<div>\n",
       "<style scoped>\n",
       "    .dataframe tbody tr th:only-of-type {\n",
       "        vertical-align: middle;\n",
       "    }\n",
       "\n",
       "    .dataframe tbody tr th {\n",
       "        vertical-align: top;\n",
       "    }\n",
       "\n",
       "    .dataframe thead th {\n",
       "        text-align: right;\n",
       "    }\n",
       "</style>\n",
       "<table border=\"1\" class=\"dataframe\">\n",
       "  <thead>\n",
       "    <tr style=\"text-align: right;\">\n",
       "      <th></th>\n",
       "      <th>operator</th>\n",
       "      <th>flight_phase</th>\n",
       "      <th>flight_type</th>\n",
       "      <th>site</th>\n",
       "      <th>yom</th>\n",
       "      <th>country</th>\n",
       "      <th>region</th>\n",
       "      <th>type</th>\n",
       "      <th>engine_model</th>\n",
       "      <th>fatalities</th>\n",
       "      <th>aircraft_damage</th>\n",
       "      <th>category</th>\n",
       "      <th>location</th>\n",
       "      <th>latitude</th>\n",
       "      <th>longitude</th>\n",
       "      <th>engine</th>\n",
       "      <th>occupants</th>\n",
       "      <th>date</th>\n",
       "      <th>other_fatalities</th>\n",
       "    </tr>\n",
       "  </thead>\n",
       "  <tbody>\n",
       "    <tr>\n",
       "      <th>1101</th>\n",
       "      <td>Technoservis-A</td>\n",
       "      <td>Takeoff (climb)</td>\n",
       "      <td>Spraying (Agricultural)</td>\n",
       "      <td>Plain, Valley</td>\n",
       "      <td>16</td>\n",
       "      <td>Russia</td>\n",
       "      <td>Asia</td>\n",
       "      <td>PZL-Mielec AN-2</td>\n",
       "      <td>Unknown</td>\n",
       "      <td>0</td>\n",
       "      <td>Substantial</td>\n",
       "      <td>Accident</td>\n",
       "      <td>Aksarino, Republic of Tatarstan</td>\n",
       "      <td>55.342326</td>\n",
       "      <td>51.906545</td>\n",
       "      <td>1 Piston engine</td>\n",
       "      <td>1</td>\n",
       "      <td>2016-04-03</td>\n",
       "      <td>0</td>\n",
       "    </tr>\n",
       "    <tr>\n",
       "      <th>1310</th>\n",
       "      <td>FlyBe</td>\n",
       "      <td>Takeoff (climb)</td>\n",
       "      <td>Scheduled Revenue Flight</td>\n",
       "      <td>Airport (less than 10 km from airport)</td>\n",
       "      <td>23</td>\n",
       "      <td>United Kingdom</td>\n",
       "      <td>Europe</td>\n",
       "      <td>Saab 340</td>\n",
       "      <td>General Electric CT7-9B</td>\n",
       "      <td>0</td>\n",
       "      <td>Substantial</td>\n",
       "      <td>Accident</td>\n",
       "      <td>Stornoway, Hebrides Islands</td>\n",
       "      <td>58.207704</td>\n",
       "      <td>-6.382723</td>\n",
       "      <td>Multi Turboprop Engines</td>\n",
       "      <td>29</td>\n",
       "      <td>2015-01-02</td>\n",
       "      <td>0</td>\n",
       "    </tr>\n",
       "    <tr>\n",
       "      <th>1346</th>\n",
       "      <td>Air Century (ACSA)</td>\n",
       "      <td>Landing (descent or approach)</td>\n",
       "      <td>Charter/Taxi (Non Scheduled Revenue Flight)</td>\n",
       "      <td>Airport (less than 10 km from airport)</td>\n",
       "      <td>18</td>\n",
       "      <td>Dominican Republic</td>\n",
       "      <td>Central America</td>\n",
       "      <td>BAe Jetstream 31</td>\n",
       "      <td>Garrett TPE331</td>\n",
       "      <td>0</td>\n",
       "      <td>Destroyed</td>\n",
       "      <td>Accident</td>\n",
       "      <td>Punta Cana, La Altagracia</td>\n",
       "      <td>18.556551</td>\n",
       "      <td>-68.369161</td>\n",
       "      <td>Multi Turboprop Engines</td>\n",
       "      <td>13</td>\n",
       "      <td>2014-10-12</td>\n",
       "      <td>0</td>\n",
       "    </tr>\n",
       "    <tr>\n",
       "      <th>1392</th>\n",
       "      <td>Skyward International Aviation</td>\n",
       "      <td>Takeoff (climb)</td>\n",
       "      <td>Cargo</td>\n",
       "      <td>City</td>\n",
       "      <td>26</td>\n",
       "      <td>Kenya</td>\n",
       "      <td>Africa</td>\n",
       "      <td>Fokker 50</td>\n",
       "      <td>Pratt &amp; Whitney Canada PW125B</td>\n",
       "      <td>4</td>\n",
       "      <td>Destroyed</td>\n",
       "      <td>Accident</td>\n",
       "      <td>Nairobi-Jomo Kenyatta (ex Embakasi), Nairobi C...</td>\n",
       "      <td>1.441968</td>\n",
       "      <td>38.431398</td>\n",
       "      <td>Multi Turboprop Engines</td>\n",
       "      <td>4</td>\n",
       "      <td>2014-07-02</td>\n",
       "      <td>0</td>\n",
       "    </tr>\n",
       "    <tr>\n",
       "      <th>8115</th>\n",
       "      <td>Rural Aerial co-op</td>\n",
       "      <td>Flight</td>\n",
       "      <td>Spraying (Agricultural)</td>\n",
       "      <td>Plain, Valley</td>\n",
       "      <td>1</td>\n",
       "      <td>New Zealand</td>\n",
       "      <td>Oceania</td>\n",
       "      <td>Fletcher FU-24</td>\n",
       "      <td>Unknown</td>\n",
       "      <td>0</td>\n",
       "      <td>Unknown</td>\n",
       "      <td>Unknown</td>\n",
       "      <td>Ihuraua, Manawatu-Wanganui (Horizons Regional ...</td>\n",
       "      <td>-41.500083</td>\n",
       "      <td>172.834408</td>\n",
       "      <td>Unknown</td>\n",
       "      <td>0</td>\n",
       "      <td>1986-07-31</td>\n",
       "      <td>0</td>\n",
       "    </tr>\n",
       "    <tr>\n",
       "      <th>10419</th>\n",
       "      <td>Jose Benitez</td>\n",
       "      <td>Landing (descent or approach)</td>\n",
       "      <td>Private</td>\n",
       "      <td>Airport (less than 10 km from airport)</td>\n",
       "      <td>254</td>\n",
       "      <td>United States of America</td>\n",
       "      <td>North America</td>\n",
       "      <td>Convair CV-440 Metropolitan</td>\n",
       "      <td>Unknown</td>\n",
       "      <td>0</td>\n",
       "      <td>Destroyed</td>\n",
       "      <td>Accident</td>\n",
       "      <td>Key West-Intl, Florida</td>\n",
       "      <td>24.555477</td>\n",
       "      <td>-81.759616</td>\n",
       "      <td>Multi Piston Engines</td>\n",
       "      <td>2</td>\n",
       "      <td>1979-04-16</td>\n",
       "      <td>0</td>\n",
       "    </tr>\n",
       "    <tr>\n",
       "      <th>11249</th>\n",
       "      <td>German Air Force - Deutsche Luftwaffe</td>\n",
       "      <td>Unknown</td>\n",
       "      <td>Military</td>\n",
       "      <td>Airport (less than 10 km from airport)</td>\n",
       "      <td>0</td>\n",
       "      <td>Germany</td>\n",
       "      <td>Europe</td>\n",
       "      <td>Dornier DO.28D Skyservant</td>\n",
       "      <td>Unknown</td>\n",
       "      <td>0</td>\n",
       "      <td>Destroyed</td>\n",
       "      <td>Accident</td>\n",
       "      <td>Kaufbeuren AFB, Bavaria</td>\n",
       "      <td>51.163818</td>\n",
       "      <td>10.447831</td>\n",
       "      <td>Multi Piston Engines</td>\n",
       "      <td>0</td>\n",
       "      <td>1977-02-28</td>\n",
       "      <td>0</td>\n",
       "    </tr>\n",
       "    <tr>\n",
       "      <th>13159</th>\n",
       "      <td>Aeroflot - Russian International Airlines</td>\n",
       "      <td>Flight</td>\n",
       "      <td>Spraying (Agricultural)</td>\n",
       "      <td>Plain, Valley</td>\n",
       "      <td>2</td>\n",
       "      <td>Russia</td>\n",
       "      <td>Asia</td>\n",
       "      <td>PZL-Mielec AN-2</td>\n",
       "      <td>Unknown</td>\n",
       "      <td>2</td>\n",
       "      <td>Destroyed</td>\n",
       "      <td>Accident</td>\n",
       "      <td>Pochep, Bryansk oblast</td>\n",
       "      <td>52.928780</td>\n",
       "      <td>33.454536</td>\n",
       "      <td>1 Piston engine</td>\n",
       "      <td>2</td>\n",
       "      <td>1971-07-15</td>\n",
       "      <td>0</td>\n",
       "    </tr>\n",
       "    <tr>\n",
       "      <th>13220</th>\n",
       "      <td>Aeroflot - Russian International Airlines</td>\n",
       "      <td>Flight</td>\n",
       "      <td>Scheduled Revenue Flight</td>\n",
       "      <td>Plain, Valley</td>\n",
       "      <td>2</td>\n",
       "      <td>Ukraine</td>\n",
       "      <td>Europe</td>\n",
       "      <td>PZL-Mielec AN-2</td>\n",
       "      <td>Unknown</td>\n",
       "      <td>0</td>\n",
       "      <td>Destroyed</td>\n",
       "      <td>Accident</td>\n",
       "      <td>Chernivtsi, Chernivtsi Oblast</td>\n",
       "      <td>48.286470</td>\n",
       "      <td>25.937653</td>\n",
       "      <td>1 Piston engine</td>\n",
       "      <td>0</td>\n",
       "      <td>1971-04-29</td>\n",
       "      <td>0</td>\n",
       "    </tr>\n",
       "    <tr>\n",
       "      <th>13458</th>\n",
       "      <td>Aeroflot - Russian International Airlines</td>\n",
       "      <td>Flight</td>\n",
       "      <td>Spraying (Agricultural)</td>\n",
       "      <td>Plain, Valley</td>\n",
       "      <td>29</td>\n",
       "      <td>Russia</td>\n",
       "      <td>Asia</td>\n",
       "      <td>PZL-Mielec AN-2</td>\n",
       "      <td>Unknown</td>\n",
       "      <td>1</td>\n",
       "      <td>Destroyed</td>\n",
       "      <td>Accident</td>\n",
       "      <td>Satyshevo, Republic of Tatarstan</td>\n",
       "      <td>64.686314</td>\n",
       "      <td>97.745306</td>\n",
       "      <td>1 Piston engine</td>\n",
       "      <td>2</td>\n",
       "      <td>1970-07-19</td>\n",
       "      <td>0</td>\n",
       "    </tr>\n",
       "    <tr>\n",
       "      <th>13569</th>\n",
       "      <td>Aeroflot - Russian International Airlines</td>\n",
       "      <td>Flight</td>\n",
       "      <td>Spraying (Agricultural)</td>\n",
       "      <td>Plain, Valley</td>\n",
       "      <td>27</td>\n",
       "      <td>Russia</td>\n",
       "      <td>Asia</td>\n",
       "      <td>PZL-Mielec AN-2</td>\n",
       "      <td>Unknown</td>\n",
       "      <td>2</td>\n",
       "      <td>Destroyed</td>\n",
       "      <td>Accident</td>\n",
       "      <td>Nikolayevo-Kozlovski, Rostov oblast</td>\n",
       "      <td>47.220578</td>\n",
       "      <td>38.361728</td>\n",
       "      <td>1 Piston engine</td>\n",
       "      <td>2</td>\n",
       "      <td>1970-03-19</td>\n",
       "      <td>0</td>\n",
       "    </tr>\n",
       "    <tr>\n",
       "      <th>13611</th>\n",
       "      <td>Aeroflot - Russian International Airlines</td>\n",
       "      <td>Flight</td>\n",
       "      <td>Positioning</td>\n",
       "      <td>Plain, Valley</td>\n",
       "      <td>29</td>\n",
       "      <td>Russia</td>\n",
       "      <td>Asia</td>\n",
       "      <td>PZL-Mielec AN-2</td>\n",
       "      <td>Unknown</td>\n",
       "      <td>2</td>\n",
       "      <td>Destroyed</td>\n",
       "      <td>Accident</td>\n",
       "      <td>Tokmasskiy, Chelyabinsk oblast</td>\n",
       "      <td>54.421120</td>\n",
       "      <td>60.263129</td>\n",
       "      <td>1 Piston engine</td>\n",
       "      <td>2</td>\n",
       "      <td>1970-01-31</td>\n",
       "      <td>0</td>\n",
       "    </tr>\n",
       "  </tbody>\n",
       "</table>\n",
       "</div>"
      ],
      "text/plain": [
       "                                        operator  \\\n",
       "1101                              Technoservis-A   \n",
       "1310                                       FlyBe   \n",
       "1346                          Air Century (ACSA)   \n",
       "1392              Skyward International Aviation   \n",
       "8115                          Rural Aerial co-op   \n",
       "10419                               Jose Benitez   \n",
       "11249      German Air Force - Deutsche Luftwaffe   \n",
       "13159  Aeroflot - Russian International Airlines   \n",
       "13220  Aeroflot - Russian International Airlines   \n",
       "13458  Aeroflot - Russian International Airlines   \n",
       "13569  Aeroflot - Russian International Airlines   \n",
       "13611  Aeroflot - Russian International Airlines   \n",
       "\n",
       "                        flight_phase  \\\n",
       "1101                 Takeoff (climb)   \n",
       "1310                 Takeoff (climb)   \n",
       "1346   Landing (descent or approach)   \n",
       "1392                 Takeoff (climb)   \n",
       "8115                          Flight   \n",
       "10419  Landing (descent or approach)   \n",
       "11249                        Unknown   \n",
       "13159                         Flight   \n",
       "13220                         Flight   \n",
       "13458                         Flight   \n",
       "13569                         Flight   \n",
       "13611                         Flight   \n",
       "\n",
       "                                       flight_type  \\\n",
       "1101                       Spraying (Agricultural)   \n",
       "1310                      Scheduled Revenue Flight   \n",
       "1346   Charter/Taxi (Non Scheduled Revenue Flight)   \n",
       "1392                                         Cargo   \n",
       "8115                       Spraying (Agricultural)   \n",
       "10419                                      Private   \n",
       "11249                                     Military   \n",
       "13159                      Spraying (Agricultural)   \n",
       "13220                     Scheduled Revenue Flight   \n",
       "13458                      Spraying (Agricultural)   \n",
       "13569                      Spraying (Agricultural)   \n",
       "13611                                  Positioning   \n",
       "\n",
       "                                         site  yom                   country  \\\n",
       "1101                            Plain, Valley   16                    Russia   \n",
       "1310   Airport (less than 10 km from airport)   23            United Kingdom   \n",
       "1346   Airport (less than 10 km from airport)   18        Dominican Republic   \n",
       "1392                                     City   26                     Kenya   \n",
       "8115                            Plain, Valley    1               New Zealand   \n",
       "10419  Airport (less than 10 km from airport)  254  United States of America   \n",
       "11249  Airport (less than 10 km from airport)    0                   Germany   \n",
       "13159                           Plain, Valley    2                    Russia   \n",
       "13220                           Plain, Valley    2                   Ukraine   \n",
       "13458                           Plain, Valley   29                    Russia   \n",
       "13569                           Plain, Valley   27                    Russia   \n",
       "13611                           Plain, Valley   29                    Russia   \n",
       "\n",
       "                region                         type  \\\n",
       "1101              Asia              PZL-Mielec AN-2   \n",
       "1310            Europe                     Saab 340   \n",
       "1346   Central America             BAe Jetstream 31   \n",
       "1392            Africa                    Fokker 50   \n",
       "8115           Oceania               Fletcher FU-24   \n",
       "10419    North America  Convair CV-440 Metropolitan   \n",
       "11249           Europe    Dornier DO.28D Skyservant   \n",
       "13159             Asia              PZL-Mielec AN-2   \n",
       "13220           Europe              PZL-Mielec AN-2   \n",
       "13458             Asia              PZL-Mielec AN-2   \n",
       "13569             Asia              PZL-Mielec AN-2   \n",
       "13611             Asia              PZL-Mielec AN-2   \n",
       "\n",
       "                        engine_model  fatalities aircraft_damage  category  \\\n",
       "1101                         Unknown           0     Substantial  Accident   \n",
       "1310         General Electric CT7-9B           0     Substantial  Accident   \n",
       "1346                  Garrett TPE331           0       Destroyed  Accident   \n",
       "1392   Pratt & Whitney Canada PW125B           4       Destroyed  Accident   \n",
       "8115                         Unknown           0         Unknown   Unknown   \n",
       "10419                        Unknown           0       Destroyed  Accident   \n",
       "11249                        Unknown           0       Destroyed  Accident   \n",
       "13159                        Unknown           2       Destroyed  Accident   \n",
       "13220                        Unknown           0       Destroyed  Accident   \n",
       "13458                        Unknown           1       Destroyed  Accident   \n",
       "13569                        Unknown           2       Destroyed  Accident   \n",
       "13611                        Unknown           2       Destroyed  Accident   \n",
       "\n",
       "                                                location   latitude  \\\n",
       "1101                     Aksarino, Republic of Tatarstan  55.342326   \n",
       "1310                         Stornoway, Hebrides Islands  58.207704   \n",
       "1346                           Punta Cana, La Altagracia  18.556551   \n",
       "1392   Nairobi-Jomo Kenyatta (ex Embakasi), Nairobi C...   1.441968   \n",
       "8115   Ihuraua, Manawatu-Wanganui (Horizons Regional ... -41.500083   \n",
       "10419                             Key West-Intl, Florida  24.555477   \n",
       "11249                            Kaufbeuren AFB, Bavaria  51.163818   \n",
       "13159                             Pochep, Bryansk oblast  52.928780   \n",
       "13220                      Chernivtsi, Chernivtsi Oblast  48.286470   \n",
       "13458                   Satyshevo, Republic of Tatarstan  64.686314   \n",
       "13569                Nikolayevo-Kozlovski, Rostov oblast  47.220578   \n",
       "13611                     Tokmasskiy, Chelyabinsk oblast  54.421120   \n",
       "\n",
       "        longitude                   engine  occupants       date  \\\n",
       "1101    51.906545          1 Piston engine          1 2016-04-03   \n",
       "1310    -6.382723  Multi Turboprop Engines         29 2015-01-02   \n",
       "1346   -68.369161  Multi Turboprop Engines         13 2014-10-12   \n",
       "1392    38.431398  Multi Turboprop Engines          4 2014-07-02   \n",
       "8115   172.834408                  Unknown          0 1986-07-31   \n",
       "10419  -81.759616     Multi Piston Engines          2 1979-04-16   \n",
       "11249   10.447831     Multi Piston Engines          0 1977-02-28   \n",
       "13159   33.454536          1 Piston engine          2 1971-07-15   \n",
       "13220   25.937653          1 Piston engine          0 1971-04-29   \n",
       "13458   97.745306          1 Piston engine          2 1970-07-19   \n",
       "13569   38.361728          1 Piston engine          2 1970-03-19   \n",
       "13611   60.263129          1 Piston engine          2 1970-01-31   \n",
       "\n",
       "       other_fatalities  \n",
       "1101                  0  \n",
       "1310                  0  \n",
       "1346                  0  \n",
       "1392                  0  \n",
       "8115                  0  \n",
       "10419                 0  \n",
       "11249                 0  \n",
       "13159                 0  \n",
       "13220                 0  \n",
       "13458                 0  \n",
       "13569                 0  \n",
       "13611                 0  "
      ]
     },
     "execution_count": 167,
     "metadata": {},
     "output_type": "execute_result"
    }
   ],
   "source": [
    "# Get rows with yom below 1900\n",
    "low_yom = df['yom'] < 1900\n",
    "df[low_yom]"
   ]
  },
  {
   "cell_type": "code",
   "execution_count": 169,
   "metadata": {},
   "outputs": [],
   "source": [
    "# Remove rows\n",
    "df = df[~low_yom]"
   ]
  },
  {
   "cell_type": "code",
   "execution_count": 170,
   "metadata": {},
   "outputs": [
    {
     "data": {
      "text/html": [
       "<div>\n",
       "<style scoped>\n",
       "    .dataframe tbody tr th:only-of-type {\n",
       "        vertical-align: middle;\n",
       "    }\n",
       "\n",
       "    .dataframe tbody tr th {\n",
       "        vertical-align: top;\n",
       "    }\n",
       "\n",
       "    .dataframe thead th {\n",
       "        text-align: right;\n",
       "    }\n",
       "</style>\n",
       "<table border=\"1\" class=\"dataframe\">\n",
       "  <thead>\n",
       "    <tr style=\"text-align: right;\">\n",
       "      <th></th>\n",
       "      <th>operator</th>\n",
       "      <th>flight_phase</th>\n",
       "      <th>flight_type</th>\n",
       "      <th>site</th>\n",
       "      <th>yom</th>\n",
       "      <th>country</th>\n",
       "      <th>region</th>\n",
       "      <th>type</th>\n",
       "      <th>engine_model</th>\n",
       "      <th>fatalities</th>\n",
       "      <th>aircraft_damage</th>\n",
       "      <th>category</th>\n",
       "      <th>location</th>\n",
       "      <th>latitude</th>\n",
       "      <th>longitude</th>\n",
       "      <th>engine</th>\n",
       "      <th>occupants</th>\n",
       "      <th>date</th>\n",
       "      <th>other_fatalities</th>\n",
       "    </tr>\n",
       "  </thead>\n",
       "  <tbody>\n",
       "    <tr>\n",
       "      <th>10479</th>\n",
       "      <td>Air Rhodesia</td>\n",
       "      <td>Takeoff (climb)</td>\n",
       "      <td>Scheduled Revenue Flight</td>\n",
       "      <td>Airport (less than 10 km from airport)</td>\n",
       "      <td>19567</td>\n",
       "      <td>Zimbabwe</td>\n",
       "      <td>Africa</td>\n",
       "      <td>Vickers Viscount</td>\n",
       "      <td>Unknown</td>\n",
       "      <td>59</td>\n",
       "      <td>Destroyed</td>\n",
       "      <td>Unlawful Interference</td>\n",
       "      <td>Kariba, Mashonaland West</td>\n",
       "      <td>-16.527274</td>\n",
       "      <td>28.775548</td>\n",
       "      <td>Multi Turboprop Engines</td>\n",
       "      <td>59</td>\n",
       "      <td>1979-02-12</td>\n",
       "      <td>0</td>\n",
       "    </tr>\n",
       "  </tbody>\n",
       "</table>\n",
       "</div>"
      ],
      "text/plain": [
       "           operator     flight_phase               flight_type  \\\n",
       "10479  Air Rhodesia  Takeoff (climb)  Scheduled Revenue Flight   \n",
       "\n",
       "                                         site    yom   country  region  \\\n",
       "10479  Airport (less than 10 km from airport)  19567  Zimbabwe  Africa   \n",
       "\n",
       "                   type engine_model  fatalities aircraft_damage  \\\n",
       "10479  Vickers Viscount      Unknown          59       Destroyed   \n",
       "\n",
       "                    category                  location   latitude  longitude  \\\n",
       "10479  Unlawful Interference  Kariba, Mashonaland West -16.527274  28.775548   \n",
       "\n",
       "                        engine  occupants       date  other_fatalities  \n",
       "10479  Multi Turboprop Engines         59 1979-02-12                 0  "
      ]
     },
     "execution_count": 170,
     "metadata": {},
     "output_type": "execute_result"
    }
   ],
   "source": [
    "# Get row with 5 digit yom\n",
    "high_yom = df['yom'] > 2025\n",
    "df[high_yom]"
   ]
  },
  {
   "cell_type": "code",
   "execution_count": 171,
   "metadata": {},
   "outputs": [],
   "source": [
    "# Remove row\n",
    "df = df[~high_yom]"
   ]
  },
  {
   "cell_type": "code",
   "execution_count": 172,
   "metadata": {},
   "outputs": [],
   "source": [
    "# Make sure fatalities are not greater than occupants\n",
    "df.loc[df['fatalities'] > df['occupants'], 'fatalities'] = df['occupants']"
   ]
  },
  {
   "cell_type": "markdown",
   "metadata": {},
   "source": [
    "### Export data"
   ]
  },
  {
   "cell_type": "code",
   "execution_count": 173,
   "metadata": {},
   "outputs": [],
   "source": [
    "# Reorder columns\n",
    "df = df[[\n",
    "\t'date',\n",
    "  \t'category',\n",
    "\t'type',\n",
    "\t'operator',\n",
    "\t'yom',\n",
    "\t'engine',\n",
    "\t'engine_model',\n",
    "\t'flight_phase',\n",
    "\t'flight_type',\n",
    "\t'site',\n",
    "\t'location',\n",
    "\t'country',\n",
    "\t'region',\n",
    "\t'latitude',\n",
    "\t'longitude',\n",
    "\t'aircraft_damage',\n",
    "\t'occupants',\n",
    "\t'fatalities',\n",
    "\t'other_fatalities'\n",
    "  ]]"
   ]
  },
  {
   "cell_type": "code",
   "execution_count": 174,
   "metadata": {},
   "outputs": [],
   "source": [
    "# Sort data from the earliest to the latest crash\n",
    "df = df.sort_values(by='date')"
   ]
  },
  {
   "cell_type": "code",
   "execution_count": 175,
   "metadata": {},
   "outputs": [],
   "source": [
    "# Reset index\n",
    "df = df.reset_index(drop=True)"
   ]
  },
  {
   "cell_type": "code",
   "execution_count": 176,
   "metadata": {},
   "outputs": [
    {
     "name": "stdout",
     "output_type": "stream",
     "text": [
      "<class 'pandas.core.frame.DataFrame'>\n",
      "RangeIndex: 12967 entries, 0 to 12966\n",
      "Data columns (total 19 columns):\n",
      " #   Column            Non-Null Count  Dtype         \n",
      "---  ------            --------------  -----         \n",
      " 0   date              12967 non-null  datetime64[ns]\n",
      " 1   category          12967 non-null  category      \n",
      " 2   type              12967 non-null  object        \n",
      " 3   operator          12967 non-null  object        \n",
      " 4   yom               12967 non-null  int64         \n",
      " 5   engine            12967 non-null  category      \n",
      " 6   engine_model      12967 non-null  object        \n",
      " 7   flight_phase      12967 non-null  object        \n",
      " 8   flight_type       12967 non-null  object        \n",
      " 9   site              12967 non-null  object        \n",
      " 10  location          12967 non-null  object        \n",
      " 11  country           12967 non-null  object        \n",
      " 12  region            12967 non-null  object        \n",
      " 13  latitude          12967 non-null  float64       \n",
      " 14  longitude         12967 non-null  float64       \n",
      " 15  aircraft_damage   12967 non-null  category      \n",
      " 16  occupants         12967 non-null  int64         \n",
      " 17  fatalities        12967 non-null  int64         \n",
      " 18  other_fatalities  12967 non-null  int64         \n",
      "dtypes: category(3), datetime64[ns](1), float64(2), int64(4), object(9)\n",
      "memory usage: 1.6+ MB\n"
     ]
    }
   ],
   "source": [
    "df.info()"
   ]
  },
  {
   "cell_type": "code",
   "execution_count": 177,
   "metadata": {},
   "outputs": [],
   "source": [
    "# Serialize data with pickle\n",
    "with open('data/crashes_cleaned_data.pkl', 'wb') as handle:\n",
    "  pickle.dump(df, handle, protocol=pickle.HIGHEST_PROTOCOL)"
   ]
  },
  {
   "cell_type": "code",
   "execution_count": 178,
   "metadata": {},
   "outputs": [],
   "source": [
    "# Export data to CSV\n",
    "df.to_csv('data/crashes_cleaned_data.csv', index=False)"
   ]
  },
  {
   "cell_type": "markdown",
   "metadata": {},
   "source": [
    "## End"
   ]
  }
 ],
 "metadata": {
  "kernelspec": {
   "display_name": "base",
   "language": "python",
   "name": "python3"
  },
  "language_info": {
   "codemirror_mode": {
    "name": "ipython",
    "version": 3
   },
   "file_extension": ".py",
   "mimetype": "text/x-python",
   "name": "python",
   "nbconvert_exporter": "python",
   "pygments_lexer": "ipython3",
   "version": "3.12.4"
  }
 },
 "nbformat": 4,
 "nbformat_minor": 2
}
